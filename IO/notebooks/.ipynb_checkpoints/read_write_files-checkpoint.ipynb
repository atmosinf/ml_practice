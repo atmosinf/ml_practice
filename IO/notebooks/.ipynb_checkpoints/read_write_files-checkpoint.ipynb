{
 "cells": [
  {
   "cell_type": "markdown",
   "id": "883cefa0",
   "metadata": {},
   "source": [
    "## read and write files"
   ]
  },
  {
   "cell_type": "markdown",
   "id": "4c5b6fe7",
   "metadata": {},
   "source": [
    "in this notebook we will practice reading and writing files"
   ]
  },
  {
   "cell_type": "markdown",
   "id": "dee27691",
   "metadata": {},
   "source": [
    "#### let's create some random data to write to a file"
   ]
  },
  {
   "cell_type": "code",
   "execution_count": 1,
   "id": "8cf615ed",
   "metadata": {},
   "outputs": [],
   "source": [
    "import numpy as np\n",
    "import pandas as pd"
   ]
  },
  {
   "cell_type": "code",
   "execution_count": 2,
   "id": "a9ba0f6e",
   "metadata": {},
   "outputs": [],
   "source": [
    "randarr  = np.random.rand(10,10)"
   ]
  },
  {
   "cell_type": "code",
   "execution_count": 4,
   "id": "1f999317",
   "metadata": {},
   "outputs": [],
   "source": [
    "randarr = pd.DataFrame(randarr)"
   ]
  },
  {
   "cell_type": "code",
   "execution_count": 6,
   "id": "bdf8e83b",
   "metadata": {},
   "outputs": [],
   "source": [
    "randarr.columns = ['col1', 'col2', 'col3', 'col4', 'col5', 'col6', 'col7', 'col8', 'col9', 'col10']"
   ]
  },
  {
   "cell_type": "code",
   "execution_count": 7,
   "id": "82e18184",
   "metadata": {},
   "outputs": [
    {
     "data": {
      "text/html": [
       "<div>\n",
       "<style scoped>\n",
       "    .dataframe tbody tr th:only-of-type {\n",
       "        vertical-align: middle;\n",
       "    }\n",
       "\n",
       "    .dataframe tbody tr th {\n",
       "        vertical-align: top;\n",
       "    }\n",
       "\n",
       "    .dataframe thead th {\n",
       "        text-align: right;\n",
       "    }\n",
       "</style>\n",
       "<table border=\"1\" class=\"dataframe\">\n",
       "  <thead>\n",
       "    <tr style=\"text-align: right;\">\n",
       "      <th></th>\n",
       "      <th>col1</th>\n",
       "      <th>col2</th>\n",
       "      <th>col3</th>\n",
       "      <th>col4</th>\n",
       "      <th>col5</th>\n",
       "      <th>col6</th>\n",
       "      <th>col7</th>\n",
       "      <th>col8</th>\n",
       "      <th>col9</th>\n",
       "      <th>col10</th>\n",
       "    </tr>\n",
       "  </thead>\n",
       "  <tbody>\n",
       "    <tr>\n",
       "      <th>0</th>\n",
       "      <td>0.910694</td>\n",
       "      <td>0.047456</td>\n",
       "      <td>0.562889</td>\n",
       "      <td>0.638469</td>\n",
       "      <td>0.384653</td>\n",
       "      <td>0.827128</td>\n",
       "      <td>0.769658</td>\n",
       "      <td>0.872822</td>\n",
       "      <td>0.535967</td>\n",
       "      <td>0.467322</td>\n",
       "    </tr>\n",
       "    <tr>\n",
       "      <th>1</th>\n",
       "      <td>0.305739</td>\n",
       "      <td>0.641787</td>\n",
       "      <td>0.200279</td>\n",
       "      <td>0.592379</td>\n",
       "      <td>0.293441</td>\n",
       "      <td>0.132340</td>\n",
       "      <td>0.499578</td>\n",
       "      <td>0.224154</td>\n",
       "      <td>0.191106</td>\n",
       "      <td>0.967640</td>\n",
       "    </tr>\n",
       "    <tr>\n",
       "      <th>2</th>\n",
       "      <td>0.797087</td>\n",
       "      <td>0.111944</td>\n",
       "      <td>0.482163</td>\n",
       "      <td>0.556392</td>\n",
       "      <td>0.659344</td>\n",
       "      <td>0.171675</td>\n",
       "      <td>0.397860</td>\n",
       "      <td>0.739586</td>\n",
       "      <td>0.856164</td>\n",
       "      <td>0.953368</td>\n",
       "    </tr>\n",
       "    <tr>\n",
       "      <th>3</th>\n",
       "      <td>0.562430</td>\n",
       "      <td>0.883914</td>\n",
       "      <td>0.578017</td>\n",
       "      <td>0.748824</td>\n",
       "      <td>0.933557</td>\n",
       "      <td>0.367690</td>\n",
       "      <td>0.190461</td>\n",
       "      <td>0.416458</td>\n",
       "      <td>0.500142</td>\n",
       "      <td>0.940957</td>\n",
       "    </tr>\n",
       "    <tr>\n",
       "      <th>4</th>\n",
       "      <td>0.404989</td>\n",
       "      <td>0.968878</td>\n",
       "      <td>0.301100</td>\n",
       "      <td>0.037051</td>\n",
       "      <td>0.009393</td>\n",
       "      <td>0.343685</td>\n",
       "      <td>0.713808</td>\n",
       "      <td>0.061616</td>\n",
       "      <td>0.041976</td>\n",
       "      <td>0.548420</td>\n",
       "    </tr>\n",
       "    <tr>\n",
       "      <th>5</th>\n",
       "      <td>0.017481</td>\n",
       "      <td>0.935772</td>\n",
       "      <td>0.137582</td>\n",
       "      <td>0.544886</td>\n",
       "      <td>0.308119</td>\n",
       "      <td>0.061765</td>\n",
       "      <td>0.913835</td>\n",
       "      <td>0.874928</td>\n",
       "      <td>0.924567</td>\n",
       "      <td>0.552978</td>\n",
       "    </tr>\n",
       "    <tr>\n",
       "      <th>6</th>\n",
       "      <td>0.565730</td>\n",
       "      <td>0.989391</td>\n",
       "      <td>0.459634</td>\n",
       "      <td>0.346818</td>\n",
       "      <td>0.584862</td>\n",
       "      <td>0.651036</td>\n",
       "      <td>0.338219</td>\n",
       "      <td>0.324403</td>\n",
       "      <td>0.251465</td>\n",
       "      <td>0.216835</td>\n",
       "    </tr>\n",
       "    <tr>\n",
       "      <th>7</th>\n",
       "      <td>0.952478</td>\n",
       "      <td>0.674395</td>\n",
       "      <td>0.624340</td>\n",
       "      <td>0.289805</td>\n",
       "      <td>0.325496</td>\n",
       "      <td>0.093966</td>\n",
       "      <td>0.279634</td>\n",
       "      <td>0.930448</td>\n",
       "      <td>0.647449</td>\n",
       "      <td>0.294772</td>\n",
       "    </tr>\n",
       "    <tr>\n",
       "      <th>8</th>\n",
       "      <td>0.516658</td>\n",
       "      <td>0.183320</td>\n",
       "      <td>0.254041</td>\n",
       "      <td>0.015246</td>\n",
       "      <td>0.705891</td>\n",
       "      <td>0.100302</td>\n",
       "      <td>0.061294</td>\n",
       "      <td>0.656928</td>\n",
       "      <td>0.749712</td>\n",
       "      <td>0.045588</td>\n",
       "    </tr>\n",
       "    <tr>\n",
       "      <th>9</th>\n",
       "      <td>0.198451</td>\n",
       "      <td>0.882500</td>\n",
       "      <td>0.491612</td>\n",
       "      <td>0.496862</td>\n",
       "      <td>0.889034</td>\n",
       "      <td>0.203682</td>\n",
       "      <td>0.465441</td>\n",
       "      <td>0.380399</td>\n",
       "      <td>0.084958</td>\n",
       "      <td>0.477940</td>\n",
       "    </tr>\n",
       "  </tbody>\n",
       "</table>\n",
       "</div>"
      ],
      "text/plain": [
       "       col1      col2      col3      col4      col5      col6      col7  \\\n",
       "0  0.910694  0.047456  0.562889  0.638469  0.384653  0.827128  0.769658   \n",
       "1  0.305739  0.641787  0.200279  0.592379  0.293441  0.132340  0.499578   \n",
       "2  0.797087  0.111944  0.482163  0.556392  0.659344  0.171675  0.397860   \n",
       "3  0.562430  0.883914  0.578017  0.748824  0.933557  0.367690  0.190461   \n",
       "4  0.404989  0.968878  0.301100  0.037051  0.009393  0.343685  0.713808   \n",
       "5  0.017481  0.935772  0.137582  0.544886  0.308119  0.061765  0.913835   \n",
       "6  0.565730  0.989391  0.459634  0.346818  0.584862  0.651036  0.338219   \n",
       "7  0.952478  0.674395  0.624340  0.289805  0.325496  0.093966  0.279634   \n",
       "8  0.516658  0.183320  0.254041  0.015246  0.705891  0.100302  0.061294   \n",
       "9  0.198451  0.882500  0.491612  0.496862  0.889034  0.203682  0.465441   \n",
       "\n",
       "       col8      col9     col10  \n",
       "0  0.872822  0.535967  0.467322  \n",
       "1  0.224154  0.191106  0.967640  \n",
       "2  0.739586  0.856164  0.953368  \n",
       "3  0.416458  0.500142  0.940957  \n",
       "4  0.061616  0.041976  0.548420  \n",
       "5  0.874928  0.924567  0.552978  \n",
       "6  0.324403  0.251465  0.216835  \n",
       "7  0.930448  0.647449  0.294772  \n",
       "8  0.656928  0.749712  0.045588  \n",
       "9  0.380399  0.084958  0.477940  "
      ]
     },
     "execution_count": 7,
     "metadata": {},
     "output_type": "execute_result"
    }
   ],
   "source": [
    "randarr"
   ]
  },
  {
   "cell_type": "code",
   "execution_count": 17,
   "id": "9f2cdd61",
   "metadata": {},
   "outputs": [],
   "source": [
    "randarr.to_csv('samplefile.csv', header=True, index=None, sep='\\t')"
   ]
  },
  {
   "cell_type": "markdown",
   "id": "9bec6113",
   "metadata": {},
   "source": [
    "## reading a file"
   ]
  },
  {
   "cell_type": "markdown",
   "id": "da0dbc70",
   "metadata": {},
   "source": [
    "to read the whole file"
   ]
  },
  {
   "cell_type": "code",
   "execution_count": 19,
   "id": "d2360047",
   "metadata": {},
   "outputs": [
    {
     "name": "stdout",
     "output_type": "stream",
     "text": [
      "col1\tcol2\tcol3\tcol4\tcol5\tcol6\tcol7\tcol8\tcol9\tcol10\n",
      "0.9106939404479065\t0.04745627817406428\t0.5628887173954611\t0.638469249918285\t0.38465347879192147\t0.8271279586855214\t0.7696578005171362\t0.8728223244366683\t0.5359668292103805\t0.46732205578686914\n",
      "0.30573894354856446\t0.6417874330141741\t0.20027933592922376\t0.5923788859270582\t0.2934413093932349\t0.1323404959320289\t0.4995783853709689\t0.22415352747643058\t0.1911061655781391\t0.9676400840107318\n",
      "0.7970869929749561\t0.11194377214431106\t0.48216295626007155\t0.5563915041157345\t0.65934449137028\t0.1716751370622036\t0.39786029549528024\t0.7395856310266165\t0.8561638436308315\t0.9533681668586783\n",
      "0.5624296043686485\t0.8839136805478717\t0.5780170028632552\t0.7488238112881476\t0.9335574586356904\t0.36769019508958456\t0.19046114707812634\t0.4164584324855861\t0.5001422537272039\t0.9409568940737816\n",
      "0.4049885128416696\t0.9688782787036546\t0.30109972720646627\t0.03705054911365668\t0.009393184635841711\t0.34368466963205924\t0.7138079382288983\t0.061616464124628956\t0.0419759983966852\t0.5484202359163808\n",
      "0.017480844873283607\t0.9357717922334009\t0.13758181842820838\t0.5448863416322548\t0.30811939241987507\t0.06176538270879506\t0.9138351495275382\t0.8749284218873781\t0.9245669194857212\t0.5529776574669198\n",
      "0.5657302288442171\t0.9893913347138221\t0.4596339558056821\t0.34681807271747234\t0.584862397313571\t0.6510355542892562\t0.338219397925542\t0.3244026335996706\t0.25146463055903834\t0.21683538620712883\n",
      "0.9524781045967454\t0.6743954672183491\t0.6243398672424859\t0.2898048493352853\t0.32549566329813595\t0.09396589060345706\t0.2796343202050743\t0.93044790398519\t0.6474493141780545\t0.2947721133200465\n",
      "0.5166580590534904\t0.1833197140272943\t0.25404093968893804\t0.01524563377546917\t0.7058912419934092\t0.10030159736381083\t0.06129362363850899\t0.6569283899789413\t0.7497119955113654\t0.0455880900778709\n",
      "0.19845071008925885\t0.8824997089317755\t0.4916122211289434\t0.49686178181018603\t0.8890339976150893\t0.2036820655757885\t0.4654405918926745\t0.38039867518039416\t0.08495834900688493\t0.47794041739919\n",
      "\n"
     ]
    }
   ],
   "source": [
    "with open('samplefile.csv', 'r') as file:\n",
    "    print(file.read())"
   ]
  },
  {
   "cell_type": "markdown",
   "id": "2bb041a6",
   "metadata": {},
   "source": [
    "to read the first 10 characters in the file"
   ]
  },
  {
   "cell_type": "code",
   "execution_count": 25,
   "id": "fec68824",
   "metadata": {},
   "outputs": [
    {
     "name": "stdout",
     "output_type": "stream",
     "text": [
      "col1\tcol2\t\n"
     ]
    }
   ],
   "source": [
    "with open('samplefile.csv', 'r') as file:\n",
    "    print(file.read(10))"
   ]
  },
  {
   "cell_type": "markdown",
   "id": "bea4668f",
   "metadata": {},
   "source": [
    "to read the first line"
   ]
  },
  {
   "cell_type": "code",
   "execution_count": 26,
   "id": "be6c20a4",
   "metadata": {},
   "outputs": [
    {
     "name": "stdout",
     "output_type": "stream",
     "text": [
      "col1\tcol2\tcol3\tcol4\tcol5\tcol6\tcol7\tcol8\tcol9\tcol10\n",
      "\n"
     ]
    }
   ],
   "source": [
    "with open('samplefile.csv', 'r') as file:\n",
    "    print(file.readline())"
   ]
  },
  {
   "cell_type": "markdown",
   "id": "49ab1a37",
   "metadata": {},
   "source": [
    "#### what would this do?"
   ]
  },
  {
   "cell_type": "markdown",
   "id": "34889cde",
   "metadata": {},
   "source": [
    "* "
   ]
  },
  {
   "cell_type": "code",
   "execution_count": 33,
   "id": "ab41d272",
   "metadata": {},
   "outputs": [
    {
     "name": "stdout",
     "output_type": "stream",
     "text": [
      "col1\tcol2\tcol3\tcol4\tcol5\tcol6\tcol7\tcol8\tcol9\tcol10\n",
      "\n",
      "0.9106939404479065\t0.04745627817406428\t0.5628887173954611\t0.638469249918285\t0.38465347879192147\t0.8271279586855214\t0.7696578005171362\t0.8728223244366683\t0.5359668292103805\t0.46732205578686914\n",
      "\n",
      "0.30573894354856446\t0.6417874330141741\t0.20027933592922376\t0.5923788859270582\t0.2934413093932349\t0.1323404959320289\t0.4995783853709689\t0.22415352747643058\t0.1911061655781391\t0.9676400840107318\n",
      "\n"
     ]
    }
   ],
   "source": [
    "with open('samplefile.csv', 'r') as file:\n",
    "    print(file.readline())\n",
    "    print(file.readline())\n",
    "    print(file.readline())"
   ]
  },
  {
   "cell_type": "markdown",
   "id": "69e3fb98",
   "metadata": {},
   "source": [
    "*"
   ]
  },
  {
   "cell_type": "code",
   "execution_count": 35,
   "id": "2bf01abc",
   "metadata": {},
   "outputs": [
    {
     "name": "stdout",
     "output_type": "stream",
     "text": [
      "col1\tcol2\tcol3\tcol4\tcol5\tcol6\tcol7\tcol8\tcol9\tcol10\n",
      "\n",
      "0.910\n"
     ]
    }
   ],
   "source": [
    "with open('samplefile.csv', 'r') as file:\n",
    "    print(file.readline())\n",
    "    print(file.readline(5))"
   ]
  },
  {
   "cell_type": "markdown",
   "id": "5134d7eb",
   "metadata": {},
   "source": [
    "*"
   ]
  },
  {
   "cell_type": "code",
   "execution_count": 36,
   "id": "f4b55bb3",
   "metadata": {},
   "outputs": [
    {
     "name": "stdout",
     "output_type": "stream",
     "text": [
      "col1\tcol2\tcol3\tcol4\tcol5\tcol6\tcol7\tcol8\tcol9\tcol10\n",
      "\n",
      "0.910\n"
     ]
    }
   ],
   "source": [
    "with open('samplefile.csv', 'r') as file:\n",
    "    print(file.readline())\n",
    "    print(file.read(5))"
   ]
  },
  {
   "cell_type": "code",
   "execution_count": 38,
   "id": "dc163950",
   "metadata": {},
   "outputs": [
    {
     "name": "stdout",
     "output_type": "stream",
     "text": [
      "col1\tcol2\tcol3\tcol4\tcol5\tcol6\tcol7\tcol8\tcol9\tcol10\n",
      "\n",
      "0.91069394\n",
      "04479065\t0.04745627817406428\t0.5628887173954611\t0.638469249918285\t0.38465347879192147\t0.8271279586855214\t0.7696578005171362\t0.8728223244366683\t0.5359668292103805\t0.46732205578686914\n",
      "\n"
     ]
    }
   ],
   "source": [
    "with open('samplefile.csv', 'r') as file:\n",
    "    print(file.readline())\n",
    "    print(file.read(10))\n",
    "    print(file.readline())"
   ]
  },
  {
   "cell_type": "markdown",
   "id": "e4be135d",
   "metadata": {},
   "source": [
    "**inference** : we can see that read and readline continues from the previously output line  "
   ]
  },
  {
   "cell_type": "markdown",
   "id": "e2c27c26",
   "metadata": {},
   "source": [
    "how about when we do this? "
   ]
  },
  {
   "cell_type": "code",
   "execution_count": 39,
   "id": "ad69ee9b",
   "metadata": {},
   "outputs": [
    {
     "name": "stdout",
     "output_type": "stream",
     "text": [
      "col1\tcol2\tcol3\tcol4\tcol5\tcol6\tcol7\tcol8\tcol9\tcol10\n",
      "\n",
      "col1\tcol2\tcol3\tcol4\tcol5\tcol6\tcol7\tcol8\tcol9\tcol10\n",
      "\n"
     ]
    }
   ],
   "source": [
    "with open('samplefile.csv', 'r') as file:\n",
    "    print(file.readline())\n",
    "    \n",
    "with open('samplefile.csv', 'r') as file:\n",
    "    print(file.readline())"
   ]
  },
  {
   "cell_type": "markdown",
   "id": "e6ffad00",
   "metadata": {},
   "source": [
    "as expected, two lines are output and both are the same"
   ]
  },
  {
   "cell_type": "markdown",
   "id": "b496b11d",
   "metadata": {},
   "source": [
    "#### let's try to get each line accessible"
   ]
  },
  {
   "cell_type": "code",
   "execution_count": 41,
   "id": "02701190",
   "metadata": {},
   "outputs": [],
   "source": [
    "with open('samplefile.csv', 'r') as file:\n",
    "    lines = file.readlines()"
   ]
  },
  {
   "cell_type": "code",
   "execution_count": 42,
   "id": "6c7191c9",
   "metadata": {},
   "outputs": [
    {
     "data": {
      "text/plain": [
       "['col1\\tcol2\\tcol3\\tcol4\\tcol5\\tcol6\\tcol7\\tcol8\\tcol9\\tcol10\\n',\n",
       " '0.9106939404479065\\t0.04745627817406428\\t0.5628887173954611\\t0.638469249918285\\t0.38465347879192147\\t0.8271279586855214\\t0.7696578005171362\\t0.8728223244366683\\t0.5359668292103805\\t0.46732205578686914\\n',\n",
       " '0.30573894354856446\\t0.6417874330141741\\t0.20027933592922376\\t0.5923788859270582\\t0.2934413093932349\\t0.1323404959320289\\t0.4995783853709689\\t0.22415352747643058\\t0.1911061655781391\\t0.9676400840107318\\n',\n",
       " '0.7970869929749561\\t0.11194377214431106\\t0.48216295626007155\\t0.5563915041157345\\t0.65934449137028\\t0.1716751370622036\\t0.39786029549528024\\t0.7395856310266165\\t0.8561638436308315\\t0.9533681668586783\\n',\n",
       " '0.5624296043686485\\t0.8839136805478717\\t0.5780170028632552\\t0.7488238112881476\\t0.9335574586356904\\t0.36769019508958456\\t0.19046114707812634\\t0.4164584324855861\\t0.5001422537272039\\t0.9409568940737816\\n',\n",
       " '0.4049885128416696\\t0.9688782787036546\\t0.30109972720646627\\t0.03705054911365668\\t0.009393184635841711\\t0.34368466963205924\\t0.7138079382288983\\t0.061616464124628956\\t0.0419759983966852\\t0.5484202359163808\\n',\n",
       " '0.017480844873283607\\t0.9357717922334009\\t0.13758181842820838\\t0.5448863416322548\\t0.30811939241987507\\t0.06176538270879506\\t0.9138351495275382\\t0.8749284218873781\\t0.9245669194857212\\t0.5529776574669198\\n',\n",
       " '0.5657302288442171\\t0.9893913347138221\\t0.4596339558056821\\t0.34681807271747234\\t0.584862397313571\\t0.6510355542892562\\t0.338219397925542\\t0.3244026335996706\\t0.25146463055903834\\t0.21683538620712883\\n',\n",
       " '0.9524781045967454\\t0.6743954672183491\\t0.6243398672424859\\t0.2898048493352853\\t0.32549566329813595\\t0.09396589060345706\\t0.2796343202050743\\t0.93044790398519\\t0.6474493141780545\\t0.2947721133200465\\n',\n",
       " '0.5166580590534904\\t0.1833197140272943\\t0.25404093968893804\\t0.01524563377546917\\t0.7058912419934092\\t0.10030159736381083\\t0.06129362363850899\\t0.6569283899789413\\t0.7497119955113654\\t0.0455880900778709\\n',\n",
       " '0.19845071008925885\\t0.8824997089317755\\t0.4916122211289434\\t0.49686178181018603\\t0.8890339976150893\\t0.2036820655757885\\t0.4654405918926745\\t0.38039867518039416\\t0.08495834900688493\\t0.47794041739919\\n']"
      ]
     },
     "execution_count": 42,
     "metadata": {},
     "output_type": "execute_result"
    }
   ],
   "source": [
    "lines"
   ]
  },
  {
   "cell_type": "code",
   "execution_count": 45,
   "id": "fdcd8186",
   "metadata": {},
   "outputs": [
    {
     "data": {
      "text/plain": [
       "list"
      ]
     },
     "execution_count": 45,
     "metadata": {},
     "output_type": "execute_result"
    }
   ],
   "source": [
    "type(lines)"
   ]
  },
  {
   "cell_type": "code",
   "execution_count": 46,
   "id": "34e53edf",
   "metadata": {},
   "outputs": [
    {
     "data": {
      "text/plain": [
       "str"
      ]
     },
     "execution_count": 46,
     "metadata": {},
     "output_type": "execute_result"
    }
   ],
   "source": [
    "type(lines[0])"
   ]
  },
  {
   "cell_type": "code",
   "execution_count": 43,
   "id": "0b4660ee",
   "metadata": {},
   "outputs": [
    {
     "data": {
      "text/plain": [
       "'col1\\tcol2\\tcol3\\tcol4\\tcol5\\tcol6\\tcol7\\tcol8\\tcol9\\tcol10\\n'"
      ]
     },
     "execution_count": 43,
     "metadata": {},
     "output_type": "execute_result"
    }
   ],
   "source": [
    "lines[0]"
   ]
  },
  {
   "cell_type": "code",
   "execution_count": 44,
   "id": "40f035cd",
   "metadata": {},
   "outputs": [
    {
     "data": {
      "text/plain": [
       "'0.9106939404479065\\t0.04745627817406428\\t0.5628887173954611\\t0.638469249918285\\t0.38465347879192147\\t0.8271279586855214\\t0.7696578005171362\\t0.8728223244366683\\t0.5359668292103805\\t0.46732205578686914\\n'"
      ]
     },
     "execution_count": 44,
     "metadata": {},
     "output_type": "execute_result"
    }
   ],
   "source": [
    "lines[1]"
   ]
  },
  {
   "cell_type": "markdown",
   "id": "6348a3dd",
   "metadata": {},
   "source": [
    "in case you want to clean the output"
   ]
  },
  {
   "cell_type": "code",
   "execution_count": 47,
   "id": "51a2a378",
   "metadata": {},
   "outputs": [],
   "source": [
    "line_sample = lines[1].replace('\\t', '    ')    "
   ]
  },
  {
   "cell_type": "code",
   "execution_count": 48,
   "id": "ce0929c6",
   "metadata": {},
   "outputs": [
    {
     "data": {
      "text/plain": [
       "'0.9106939404479065    0.04745627817406428    0.5628887173954611    0.638469249918285    0.38465347879192147    0.8271279586855214    0.7696578005171362    0.8728223244366683    0.5359668292103805    0.46732205578686914\\n'"
      ]
     },
     "execution_count": 48,
     "metadata": {},
     "output_type": "execute_result"
    }
   ],
   "source": [
    "line_sample"
   ]
  },
  {
   "cell_type": "code",
   "execution_count": 49,
   "id": "e3a3466c",
   "metadata": {},
   "outputs": [
    {
     "data": {
      "text/plain": [
       "'0.9106939404479065    0.04745627817406428    0.5628887173954611    0.638469249918285    0.38465347879192147    0.8271279586855214    0.7696578005171362    0.8728223244366683    0.5359668292103805    0.46732205578686914'"
      ]
     },
     "execution_count": 49,
     "metadata": {},
     "output_type": "execute_result"
    }
   ],
   "source": [
    "line_sample.replace('\\n','')"
   ]
  },
  {
   "cell_type": "markdown",
   "id": "daac3085",
   "metadata": {},
   "source": [
    "## writing to a file"
   ]
  },
  {
   "cell_type": "code",
   "execution_count": 50,
   "id": "d5d4ce3b",
   "metadata": {},
   "outputs": [],
   "source": [
    "with open('samplewrite.txt', 'w') as wfile:\n",
    "    wfile.write('This is line 1')"
   ]
  },
  {
   "cell_type": "markdown",
   "id": "985a0121",
   "metadata": {},
   "source": [
    "let's read the file we just created"
   ]
  },
  {
   "cell_type": "code",
   "execution_count": 55,
   "id": "92eecb1a",
   "metadata": {},
   "outputs": [
    {
     "name": "stdout",
     "output_type": "stream",
     "text": [
      "This is another line\n"
     ]
    }
   ],
   "source": [
    "with open('samplewrite.txt', 'r') as file:\n",
    "    print(file.readline())"
   ]
  },
  {
   "cell_type": "markdown",
   "id": "ba72e25e",
   "metadata": {},
   "source": [
    "what if we write another line? will it be appended or will the file be recreated with the new line?"
   ]
  },
  {
   "cell_type": "code",
   "execution_count": 54,
   "id": "8c20a841",
   "metadata": {},
   "outputs": [],
   "source": [
    "with open('samplewrite.txt', 'w') as wfile:\n",
    "    wfile.write('This is another line')"
   ]
  },
  {
   "cell_type": "code",
   "execution_count": 56,
   "id": "3b05ce8c",
   "metadata": {},
   "outputs": [
    {
     "name": "stdout",
     "output_type": "stream",
     "text": [
      "This is another line\n"
     ]
    }
   ],
   "source": [
    "with open('samplewrite.txt', 'r') as file:\n",
    "    print(file.readline())"
   ]
  },
  {
   "cell_type": "markdown",
   "id": "e398a126",
   "metadata": {},
   "source": [
    "the line is not appended. the file is remade"
   ]
  },
  {
   "cell_type": "markdown",
   "id": "9c70a9e6",
   "metadata": {},
   "source": [
    "if we wanted multiple lines, we could store the lines in a list as such:"
   ]
  },
  {
   "cell_type": "code",
   "execution_count": 57,
   "id": "d7f2ea3f",
   "metadata": {},
   "outputs": [],
   "source": [
    "lines = ['this is line 1\\n', 'this is line 2\\n', 'this is line 3\\n', 'this is line 4\\n', 'this is line 5\\n']"
   ]
  },
  {
   "cell_type": "code",
   "execution_count": 82,
   "id": "59a53393",
   "metadata": {},
   "outputs": [],
   "source": [
    "with open('samplewrite.txt', 'w') as file:\n",
    "    for line in lines:\n",
    "        file.write(line)"
   ]
  },
  {
   "cell_type": "code",
   "execution_count": 83,
   "id": "23048783",
   "metadata": {},
   "outputs": [
    {
     "name": "stdout",
     "output_type": "stream",
     "text": [
      "this is line 1\n",
      "this is line 2\n",
      "this is line 3\n",
      "this is line 4\n",
      "this is line 5\n",
      "\n"
     ]
    }
   ],
   "source": [
    "with open('samplewrite.txt', 'r') as file:\n",
    "    print(file.read())"
   ]
  },
  {
   "cell_type": "markdown",
   "id": "787a87a6",
   "metadata": {},
   "source": [
    "### Appending to a file"
   ]
  },
  {
   "cell_type": "markdown",
   "id": "b60ecc07",
   "metadata": {},
   "source": [
    "we've seen that writing to a file with 'w' overwrites the file. we can use 'a' to append to a file:"
   ]
  },
  {
   "cell_type": "code",
   "execution_count": 84,
   "id": "96ce83fd",
   "metadata": {},
   "outputs": [],
   "source": [
    "with open('samplewrite.txt', 'a') as file:\n",
    "    file.write('appended line 1\\n')\n",
    "    file.write('appended line 2\\n')"
   ]
  },
  {
   "cell_type": "code",
   "execution_count": 85,
   "id": "5c3ae73e",
   "metadata": {},
   "outputs": [
    {
     "name": "stdout",
     "output_type": "stream",
     "text": [
      "this is line 1\n",
      "this is line 2\n",
      "this is line 3\n",
      "this is line 4\n",
      "this is line 5\n",
      "appended line 1\n",
      "appended line 2\n",
      "\n"
     ]
    }
   ],
   "source": [
    "with open('samplewrite.txt', 'r') as file:\n",
    "    print(file.read())"
   ]
  },
  {
   "cell_type": "markdown",
   "id": "adb57f89",
   "metadata": {},
   "source": [
    "## Note!!"
   ]
  },
  {
   "cell_type": "markdown",
   "id": "ab6a2436",
   "metadata": {},
   "source": [
    "if you accidentally use 'w' instead of 'r', the contents of a file will be deleted. you can see an example below:"
   ]
  },
  {
   "cell_type": "code",
   "execution_count": 92,
   "id": "e8c62928",
   "metadata": {},
   "outputs": [],
   "source": [
    "with open('example.txt', 'w') as f:\n",
    "    f.write('this is an example file')"
   ]
  },
  {
   "cell_type": "code",
   "execution_count": 93,
   "id": "894cdce6",
   "metadata": {},
   "outputs": [
    {
     "name": "stdout",
     "output_type": "stream",
     "text": [
      "this is an example file\n"
     ]
    }
   ],
   "source": [
    "with open('example.txt', 'r') as f:\n",
    "    print(f.read())"
   ]
  },
  {
   "cell_type": "markdown",
   "id": "28a899d6",
   "metadata": {},
   "source": [
    "now let's 'accidentally' use 'w' instead of 'r'"
   ]
  },
  {
   "cell_type": "code",
   "execution_count": 94,
   "id": "c6a8e3fe",
   "metadata": {},
   "outputs": [
    {
     "ename": "UnsupportedOperation",
     "evalue": "not readable",
     "output_type": "error",
     "traceback": [
      "\u001b[0;31m---------------------------------------------------------------------------\u001b[0m",
      "\u001b[0;31mUnsupportedOperation\u001b[0m                      Traceback (most recent call last)",
      "\u001b[0;32m/tmp/ipykernel_5265/2974936401.py\u001b[0m in \u001b[0;36m<module>\u001b[0;34m\u001b[0m\n\u001b[1;32m      1\u001b[0m \u001b[0;32mwith\u001b[0m \u001b[0mopen\u001b[0m\u001b[0;34m(\u001b[0m\u001b[0;34m'example.txt'\u001b[0m\u001b[0;34m,\u001b[0m \u001b[0;34m'w'\u001b[0m\u001b[0;34m)\u001b[0m \u001b[0;32mas\u001b[0m \u001b[0mf\u001b[0m\u001b[0;34m:\u001b[0m\u001b[0;34m\u001b[0m\u001b[0;34m\u001b[0m\u001b[0m\n\u001b[0;32m----> 2\u001b[0;31m     \u001b[0mprint\u001b[0m\u001b[0;34m(\u001b[0m\u001b[0mf\u001b[0m\u001b[0;34m.\u001b[0m\u001b[0mread\u001b[0m\u001b[0;34m(\u001b[0m\u001b[0;34m)\u001b[0m\u001b[0;34m)\u001b[0m\u001b[0;34m\u001b[0m\u001b[0;34m\u001b[0m\u001b[0m\n\u001b[0m",
      "\u001b[0;31mUnsupportedOperation\u001b[0m: not readable"
     ]
    }
   ],
   "source": [
    "with open('example.txt', 'w') as f:\n",
    "    print(f.read())"
   ]
  },
  {
   "cell_type": "markdown",
   "id": "53f4458f",
   "metadata": {},
   "source": [
    "now correct it to 'r' and try to open the file again"
   ]
  },
  {
   "cell_type": "code",
   "execution_count": 95,
   "id": "8fbe955f",
   "metadata": {},
   "outputs": [
    {
     "name": "stdout",
     "output_type": "stream",
     "text": [
      "\n"
     ]
    }
   ],
   "source": [
    "with open('example.txt', 'r') as f:\n",
    "    print(f.read())"
   ]
  },
  {
   "cell_type": "markdown",
   "id": "fe4527a2",
   "metadata": {},
   "source": [
    "whoops! there is nothing in the file anymore"
   ]
  },
  {
   "cell_type": "markdown",
   "id": "0cb31054",
   "metadata": {},
   "source": [
    "### ***experiments"
   ]
  },
  {
   "cell_type": "markdown",
   "id": "94e982cf",
   "metadata": {},
   "source": [
    "*"
   ]
  },
  {
   "cell_type": "code",
   "execution_count": 96,
   "id": "4efe73bc",
   "metadata": {},
   "outputs": [],
   "source": [
    "with open('samplewrite.txt', 'r') as f:\n",
    "    file = f.read()"
   ]
  },
  {
   "cell_type": "code",
   "execution_count": 97,
   "id": "fd7b7fba",
   "metadata": {},
   "outputs": [
    {
     "data": {
      "text/plain": [
       "str"
      ]
     },
     "execution_count": 97,
     "metadata": {},
     "output_type": "execute_result"
    }
   ],
   "source": [
    "type(file)"
   ]
  },
  {
   "cell_type": "code",
   "execution_count": 98,
   "id": "182f93e6",
   "metadata": {},
   "outputs": [
    {
     "data": {
      "text/plain": [
       "107"
      ]
     },
     "execution_count": 98,
     "metadata": {},
     "output_type": "execute_result"
    }
   ],
   "source": [
    "len(file)"
   ]
  },
  {
   "cell_type": "code",
   "execution_count": 99,
   "id": "057b060e",
   "metadata": {},
   "outputs": [
    {
     "data": {
      "text/plain": [
       "'this is line 1\\nthis is line 2\\nthis is line 3\\nthis is line 4\\nthis is line 5\\nappended line 1\\nappended line 2\\n'"
      ]
     },
     "execution_count": 99,
     "metadata": {},
     "output_type": "execute_result"
    }
   ],
   "source": [
    "file"
   ]
  },
  {
   "cell_type": "markdown",
   "id": "416b1151",
   "metadata": {},
   "source": [
    "now that you have the file in string form, you can copy the file (using a write) and manipulate it however you'd like "
   ]
  },
  {
   "cell_type": "markdown",
   "id": "32c36062",
   "metadata": {},
   "source": [
    "*"
   ]
  },
  {
   "cell_type": "code",
   "execution_count": 101,
   "id": "24842d4c",
   "metadata": {},
   "outputs": [],
   "source": [
    "file_cleansed = file.replace('1','one').replace('2','two').replace('3','three').replace('4','four').replace('5','five')"
   ]
  },
  {
   "cell_type": "code",
   "execution_count": 102,
   "id": "752a93e1",
   "metadata": {},
   "outputs": [
    {
     "data": {
      "text/plain": [
       "'this is line one\\nthis is line two\\nthis is line three\\nthis is line four\\nthis is line five\\nappended line one\\nappended line two\\n'"
      ]
     },
     "execution_count": 102,
     "metadata": {},
     "output_type": "execute_result"
    }
   ],
   "source": [
    "file_cleansed"
   ]
  },
  {
   "cell_type": "markdown",
   "id": "dd0f5821",
   "metadata": {},
   "source": [
    "check the changes"
   ]
  },
  {
   "cell_type": "code",
   "execution_count": 104,
   "id": "17565c54",
   "metadata": {},
   "outputs": [
    {
     "name": "stdout",
     "output_type": "stream",
     "text": [
      "this is line 1\n",
      "this is line 2\n",
      "this is line 3\n",
      "this is line 4\n",
      "this is line 5\n",
      "appended line 1\n",
      "appended line 2\n",
      "\n"
     ]
    }
   ],
   "source": [
    "print(file)"
   ]
  },
  {
   "cell_type": "code",
   "execution_count": 103,
   "id": "99cb9e9c",
   "metadata": {},
   "outputs": [
    {
     "name": "stdout",
     "output_type": "stream",
     "text": [
      "this is line one\n",
      "this is line two\n",
      "this is line three\n",
      "this is line four\n",
      "this is line five\n",
      "appended line one\n",
      "appended line two\n",
      "\n"
     ]
    }
   ],
   "source": [
    "print(file_cleansed)"
   ]
  },
  {
   "cell_type": "markdown",
   "id": "a15803bc",
   "metadata": {},
   "source": [
    "now save the cleansed file"
   ]
  },
  {
   "cell_type": "code",
   "execution_count": 105,
   "id": "efd727d5",
   "metadata": {},
   "outputs": [],
   "source": [
    "with open('samplewrite_cleansed.txt', 'w') as f:\n",
    "    f.write(file_cleansed)"
   ]
  },
  {
   "cell_type": "code",
   "execution_count": 109,
   "id": "b8388253",
   "metadata": {},
   "outputs": [
    {
     "name": "stdout",
     "output_type": "stream",
     "text": [
      "this is line one\n",
      "this is line two\n",
      "this is line three\n",
      "this is line four\n",
      "this is line five\n",
      "appended line one\n",
      "appended line two\n",
      "\n"
     ]
    }
   ],
   "source": [
    "with open('samplewrite_cleansed.txt', 'r') as f:\n",
    "    print(f.read())"
   ]
  },
  {
   "cell_type": "markdown",
   "id": "ac245551",
   "metadata": {},
   "source": [
    "you may use regex for advanced cleansing"
   ]
  },
  {
   "cell_type": "code",
   "execution_count": null,
   "id": "2da5b51b",
   "metadata": {},
   "outputs": [],
   "source": []
  }
 ],
 "metadata": {
  "kernelspec": {
   "display_name": "udacitycvenv",
   "language": "python",
   "name": "udacitycvenv"
  },
  "language_info": {
   "codemirror_mode": {
    "name": "ipython",
    "version": 3
   },
   "file_extension": ".py",
   "mimetype": "text/x-python",
   "name": "python",
   "nbconvert_exporter": "python",
   "pygments_lexer": "ipython3",
   "version": "3.9.0"
  }
 },
 "nbformat": 4,
 "nbformat_minor": 5
}
