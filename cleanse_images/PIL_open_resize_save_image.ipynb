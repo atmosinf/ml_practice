{
 "cells": [
  {
   "cell_type": "markdown",
   "id": "210da413",
   "metadata": {},
   "source": [
    "## Create a function that copies over a folder (preserving the fodler hierachy) with all its images, saving each image using PIL. This will get rid of all corrupt images. Also resize the images to the specified target size"
   ]
  },
  {
   "cell_type": "code",
   "execution_count": 8,
   "id": "f88ce121",
   "metadata": {},
   "outputs": [],
   "source": [
    "import os\n",
    "from PIL import Image \n",
    "from tqdm import tqdm\n",
    "import shutil"
   ]
  },
  {
   "cell_type": "code",
   "execution_count": 9,
   "id": "bcc7b88e",
   "metadata": {},
   "outputs": [],
   "source": [
    "targetdir = 'animals_africa_cleaned_resized'\n",
    "sourcedir = 'animals_africa'"
   ]
  },
  {
   "cell_type": "markdown",
   "id": "574c5d92",
   "metadata": {},
   "source": [
    "### create a function to get the list of all files in a directory tree. the tree structure must be returned for each file"
   ]
  },
  {
   "cell_type": "code",
   "execution_count": 10,
   "id": "2453155f",
   "metadata": {},
   "outputs": [],
   "source": [
    "def get_filelist(dirname):\n",
    "    filelist = os.listdir(dirname)\n",
    "    allfiles = []\n",
    "    for f in filelist:\n",
    "        fullpath = f'{dirname}/{f}'\n",
    "        if os.path.isdir(fullpath):\n",
    "            allfiles = allfiles + get_filelist(fullpath)\n",
    "        else:\n",
    "            allfiles.append(fullpath)\n",
    "                \n",
    "    return allfiles"
   ]
  },
  {
   "cell_type": "code",
   "execution_count": 11,
   "id": "37b21ab5",
   "metadata": {},
   "outputs": [],
   "source": [
    "filelist = get_filelist(sourcedir) "
   ]
  },
  {
   "cell_type": "code",
   "execution_count": 12,
   "id": "28ae8694",
   "metadata": {},
   "outputs": [
    {
     "data": {
      "text/plain": [
       "2013"
      ]
     },
     "execution_count": 12,
     "metadata": {},
     "output_type": "execute_result"
    }
   ],
   "source": [
    "len(filelist)"
   ]
  },
  {
   "cell_type": "markdown",
   "id": "a44957a4",
   "metadata": {},
   "source": [
    "### copy over the directory tree to the target location "
   ]
  },
  {
   "cell_type": "code",
   "execution_count": 13,
   "id": "fd62422e",
   "metadata": {},
   "outputs": [],
   "source": [
    "def ig_f(dir, files):\n",
    "    return [f for f in files if os.path.isfile(os.path.join(dir, f))]"
   ]
  },
  {
   "cell_type": "code",
   "execution_count": 14,
   "id": "9776b3d6",
   "metadata": {},
   "outputs": [
    {
     "data": {
      "text/plain": [
       "'animals_africa_cleaned_resized'"
      ]
     },
     "execution_count": 14,
     "metadata": {},
     "output_type": "execute_result"
    }
   ],
   "source": [
    "shutil.copytree(sourcedir, targetdir, ignore=ig_f)"
   ]
  },
  {
   "cell_type": "markdown",
   "id": "710f7474",
   "metadata": {},
   "source": [
    "### open each image in the filelist with PIL and save them over to the target location with the same name. the target directory tree location matches that of the source  "
   ]
  },
  {
   "cell_type": "code",
   "execution_count": 16,
   "id": "df067cab",
   "metadata": {},
   "outputs": [
    {
     "name": "stderr",
     "output_type": "stream",
     "text": [
      "100%|██████████████████████████████████████████████████████████████████████████████| 2013/2013 [04:39<00:00,  7.21it/s]\n"
     ]
    }
   ],
   "source": [
    "savedlist = []\n",
    "failedlist = []\n",
    "for f in tqdm(filelist):\n",
    "    img = Image.open(f)\n",
    "    targetloc = f.replace(sourcedir, targetdir).replace('JPG','jpg')\n",
    "    try:\n",
    "        img = img.resize((1365,1024))\n",
    "        img.save(targetloc)\n",
    "        savedlist.append(f)\n",
    "    except:\n",
    "        failedlist.append(f)"
   ]
  },
  {
   "cell_type": "code",
   "execution_count": 48,
   "id": "78b187ae",
   "metadata": {},
   "outputs": [
    {
     "data": {
      "text/plain": [
       "(2010, 3)"
      ]
     },
     "execution_count": 48,
     "metadata": {},
     "output_type": "execute_result"
    }
   ],
   "source": [
    "len(savedlist), len(failedlist)"
   ]
  },
  {
   "cell_type": "code",
   "execution_count": 49,
   "id": "c9160cc5",
   "metadata": {},
   "outputs": [
    {
     "data": {
      "text/plain": [
       "['lopewaka_max50//Blank/A0105151.JPG',\n",
       " 'lopewaka_max50//Blank/A0105183.JPG',\n",
       " 'lopewaka_max50//Blank/A0111604.JPG']"
      ]
     },
     "execution_count": 49,
     "metadata": {},
     "output_type": "execute_result"
    }
   ],
   "source": [
    "failedlist"
   ]
  },
  {
   "cell_type": "code",
   "execution_count": 53,
   "id": "f0a112f7",
   "metadata": {},
   "outputs": [],
   "source": [
    "with open('COPY_SUCCESSFUL.txt', 'w') as f:\n",
    "    for line in savedlist:\n",
    "        f.write(f'{line}\\n')"
   ]
  },
  {
   "cell_type": "code",
   "execution_count": 54,
   "id": "e15eb496",
   "metadata": {},
   "outputs": [],
   "source": [
    "with open('COPY_FAILED.txt', 'w') as f:\n",
    "    for line in failedlist:\n",
    "        f.write(f'{line}\\n')"
   ]
  },
  {
   "cell_type": "code",
   "execution_count": null,
   "id": "a1bf13e2",
   "metadata": {},
   "outputs": [],
   "source": []
  }
 ],
 "metadata": {
  "kernelspec": {
   "display_name": "myenv",
   "language": "python",
   "name": "myenv"
  },
  "language_info": {
   "codemirror_mode": {
    "name": "ipython",
    "version": 3
   },
   "file_extension": ".py",
   "mimetype": "text/x-python",
   "name": "python",
   "nbconvert_exporter": "python",
   "pygments_lexer": "ipython3",
   "version": "3.9.12"
  }
 },
 "nbformat": 4,
 "nbformat_minor": 5
}
