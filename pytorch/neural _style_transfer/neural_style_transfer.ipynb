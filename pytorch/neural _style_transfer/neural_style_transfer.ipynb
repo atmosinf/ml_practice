{
  "nbformat": 4,
  "nbformat_minor": 0,
  "metadata": {
    "colab": {
      "name": "neural_style_transfer.ipynb",
      "provenance": [],
      "collapsed_sections": []
    },
    "kernelspec": {
      "name": "python3",
      "display_name": "Python 3"
    },
    "language_info": {
      "name": "python"
    },
    "accelerator": "GPU"
  },
  "cells": [
    {
      "cell_type": "markdown",
      "source": [
        "## in this notebook we will learn how to do neural style transfer"
      ],
      "metadata": {
        "id": "uIBPq6FpX973"
      }
    },
    {
      "cell_type": "markdown",
      "source": [
        "youtube [link](https://www.youtube.com/watch?v=imX4kSKDY7s)"
      ],
      "metadata": {
        "id": "42OApC_9bA-1"
      }
    },
    {
      "cell_type": "code",
      "execution_count": 1,
      "metadata": {
        "id": "k13ZYqP2Xbpg"
      },
      "outputs": [],
      "source": [
        "import torch\n",
        "import torch.nn as nn\n",
        "import torch.optim as optim\n",
        "from PIL import Image\n",
        "import torchvision.transforms as transforms\n",
        "import torchvision.models as models\n",
        "from torchvision.utils import save_image\n",
        "import numpy as np"
      ]
    },
    {
      "cell_type": "code",
      "source": [
        "model = models.vgg19(pretrained=True)"
      ],
      "metadata": {
        "id": "sGGywLW4ZidG"
      },
      "execution_count": 2,
      "outputs": []
    },
    {
      "cell_type": "code",
      "source": [
        "model"
      ],
      "metadata": {
        "colab": {
          "base_uri": "https://localhost:8080/"
        },
        "id": "mfoGc1RUZxCW",
        "outputId": "317407a3-155f-4048-98a7-19732ecd0522"
      },
      "execution_count": 3,
      "outputs": [
        {
          "output_type": "execute_result",
          "data": {
            "text/plain": [
              "VGG(\n",
              "  (features): Sequential(\n",
              "    (0): Conv2d(3, 64, kernel_size=(3, 3), stride=(1, 1), padding=(1, 1))\n",
              "    (1): ReLU(inplace=True)\n",
              "    (2): Conv2d(64, 64, kernel_size=(3, 3), stride=(1, 1), padding=(1, 1))\n",
              "    (3): ReLU(inplace=True)\n",
              "    (4): MaxPool2d(kernel_size=2, stride=2, padding=0, dilation=1, ceil_mode=False)\n",
              "    (5): Conv2d(64, 128, kernel_size=(3, 3), stride=(1, 1), padding=(1, 1))\n",
              "    (6): ReLU(inplace=True)\n",
              "    (7): Conv2d(128, 128, kernel_size=(3, 3), stride=(1, 1), padding=(1, 1))\n",
              "    (8): ReLU(inplace=True)\n",
              "    (9): MaxPool2d(kernel_size=2, stride=2, padding=0, dilation=1, ceil_mode=False)\n",
              "    (10): Conv2d(128, 256, kernel_size=(3, 3), stride=(1, 1), padding=(1, 1))\n",
              "    (11): ReLU(inplace=True)\n",
              "    (12): Conv2d(256, 256, kernel_size=(3, 3), stride=(1, 1), padding=(1, 1))\n",
              "    (13): ReLU(inplace=True)\n",
              "    (14): Conv2d(256, 256, kernel_size=(3, 3), stride=(1, 1), padding=(1, 1))\n",
              "    (15): ReLU(inplace=True)\n",
              "    (16): Conv2d(256, 256, kernel_size=(3, 3), stride=(1, 1), padding=(1, 1))\n",
              "    (17): ReLU(inplace=True)\n",
              "    (18): MaxPool2d(kernel_size=2, stride=2, padding=0, dilation=1, ceil_mode=False)\n",
              "    (19): Conv2d(256, 512, kernel_size=(3, 3), stride=(1, 1), padding=(1, 1))\n",
              "    (20): ReLU(inplace=True)\n",
              "    (21): Conv2d(512, 512, kernel_size=(3, 3), stride=(1, 1), padding=(1, 1))\n",
              "    (22): ReLU(inplace=True)\n",
              "    (23): Conv2d(512, 512, kernel_size=(3, 3), stride=(1, 1), padding=(1, 1))\n",
              "    (24): ReLU(inplace=True)\n",
              "    (25): Conv2d(512, 512, kernel_size=(3, 3), stride=(1, 1), padding=(1, 1))\n",
              "    (26): ReLU(inplace=True)\n",
              "    (27): MaxPool2d(kernel_size=2, stride=2, padding=0, dilation=1, ceil_mode=False)\n",
              "    (28): Conv2d(512, 512, kernel_size=(3, 3), stride=(1, 1), padding=(1, 1))\n",
              "    (29): ReLU(inplace=True)\n",
              "    (30): Conv2d(512, 512, kernel_size=(3, 3), stride=(1, 1), padding=(1, 1))\n",
              "    (31): ReLU(inplace=True)\n",
              "    (32): Conv2d(512, 512, kernel_size=(3, 3), stride=(1, 1), padding=(1, 1))\n",
              "    (33): ReLU(inplace=True)\n",
              "    (34): Conv2d(512, 512, kernel_size=(3, 3), stride=(1, 1), padding=(1, 1))\n",
              "    (35): ReLU(inplace=True)\n",
              "    (36): MaxPool2d(kernel_size=2, stride=2, padding=0, dilation=1, ceil_mode=False)\n",
              "  )\n",
              "  (avgpool): AdaptiveAvgPool2d(output_size=(7, 7))\n",
              "  (classifier): Sequential(\n",
              "    (0): Linear(in_features=25088, out_features=4096, bias=True)\n",
              "    (1): ReLU(inplace=True)\n",
              "    (2): Dropout(p=0.5, inplace=False)\n",
              "    (3): Linear(in_features=4096, out_features=4096, bias=True)\n",
              "    (4): ReLU(inplace=True)\n",
              "    (5): Dropout(p=0.5, inplace=False)\n",
              "    (6): Linear(in_features=4096, out_features=1000, bias=True)\n",
              "  )\n",
              ")"
            ]
          },
          "metadata": {},
          "execution_count": 3
        }
      ]
    },
    {
      "cell_type": "markdown",
      "source": [
        "we dont need the classifier, so we'll filter that out"
      ],
      "metadata": {
        "id": "2FO0V5zPZ94c"
      }
    },
    {
      "cell_type": "code",
      "source": [
        "model = model.features"
      ],
      "metadata": {
        "id": "4vK_G3hwZzOm"
      },
      "execution_count": 4,
      "outputs": []
    },
    {
      "cell_type": "code",
      "source": [
        "model"
      ],
      "metadata": {
        "colab": {
          "base_uri": "https://localhost:8080/"
        },
        "id": "_HjDHYMsZ1n7",
        "outputId": "9231958b-b2f6-445f-d198-80e6d4c4deb0"
      },
      "execution_count": 5,
      "outputs": [
        {
          "output_type": "execute_result",
          "data": {
            "text/plain": [
              "Sequential(\n",
              "  (0): Conv2d(3, 64, kernel_size=(3, 3), stride=(1, 1), padding=(1, 1))\n",
              "  (1): ReLU(inplace=True)\n",
              "  (2): Conv2d(64, 64, kernel_size=(3, 3), stride=(1, 1), padding=(1, 1))\n",
              "  (3): ReLU(inplace=True)\n",
              "  (4): MaxPool2d(kernel_size=2, stride=2, padding=0, dilation=1, ceil_mode=False)\n",
              "  (5): Conv2d(64, 128, kernel_size=(3, 3), stride=(1, 1), padding=(1, 1))\n",
              "  (6): ReLU(inplace=True)\n",
              "  (7): Conv2d(128, 128, kernel_size=(3, 3), stride=(1, 1), padding=(1, 1))\n",
              "  (8): ReLU(inplace=True)\n",
              "  (9): MaxPool2d(kernel_size=2, stride=2, padding=0, dilation=1, ceil_mode=False)\n",
              "  (10): Conv2d(128, 256, kernel_size=(3, 3), stride=(1, 1), padding=(1, 1))\n",
              "  (11): ReLU(inplace=True)\n",
              "  (12): Conv2d(256, 256, kernel_size=(3, 3), stride=(1, 1), padding=(1, 1))\n",
              "  (13): ReLU(inplace=True)\n",
              "  (14): Conv2d(256, 256, kernel_size=(3, 3), stride=(1, 1), padding=(1, 1))\n",
              "  (15): ReLU(inplace=True)\n",
              "  (16): Conv2d(256, 256, kernel_size=(3, 3), stride=(1, 1), padding=(1, 1))\n",
              "  (17): ReLU(inplace=True)\n",
              "  (18): MaxPool2d(kernel_size=2, stride=2, padding=0, dilation=1, ceil_mode=False)\n",
              "  (19): Conv2d(256, 512, kernel_size=(3, 3), stride=(1, 1), padding=(1, 1))\n",
              "  (20): ReLU(inplace=True)\n",
              "  (21): Conv2d(512, 512, kernel_size=(3, 3), stride=(1, 1), padding=(1, 1))\n",
              "  (22): ReLU(inplace=True)\n",
              "  (23): Conv2d(512, 512, kernel_size=(3, 3), stride=(1, 1), padding=(1, 1))\n",
              "  (24): ReLU(inplace=True)\n",
              "  (25): Conv2d(512, 512, kernel_size=(3, 3), stride=(1, 1), padding=(1, 1))\n",
              "  (26): ReLU(inplace=True)\n",
              "  (27): MaxPool2d(kernel_size=2, stride=2, padding=0, dilation=1, ceil_mode=False)\n",
              "  (28): Conv2d(512, 512, kernel_size=(3, 3), stride=(1, 1), padding=(1, 1))\n",
              "  (29): ReLU(inplace=True)\n",
              "  (30): Conv2d(512, 512, kernel_size=(3, 3), stride=(1, 1), padding=(1, 1))\n",
              "  (31): ReLU(inplace=True)\n",
              "  (32): Conv2d(512, 512, kernel_size=(3, 3), stride=(1, 1), padding=(1, 1))\n",
              "  (33): ReLU(inplace=True)\n",
              "  (34): Conv2d(512, 512, kernel_size=(3, 3), stride=(1, 1), padding=(1, 1))\n",
              "  (35): ReLU(inplace=True)\n",
              "  (36): MaxPool2d(kernel_size=2, stride=2, padding=0, dilation=1, ceil_mode=False)\n",
              ")"
            ]
          },
          "metadata": {},
          "execution_count": 5
        }
      ]
    },
    {
      "cell_type": "markdown",
      "source": [
        "let's create a VGG class"
      ],
      "metadata": {
        "id": "pxQvmn7laukY"
      }
    },
    {
      "cell_type": "code",
      "source": [
        "class VGG(nn.Module):\n",
        "    def __init__(self):\n",
        "        super().__init__()\n",
        "        self.chosen_features = ['0','5','10','19','28']\n",
        "        self.model = models.vgg19(pretrained=True).features[:29]\n",
        "\n",
        "    def forward(self, x):\n",
        "        features = []\n",
        "\n",
        "        for layer_num, layer in enumerate(self.model):\n",
        "            x = layer(x)\n",
        "\n",
        "            if str(layer_num) in self.chosen_features:\n",
        "                features.append(x)\n",
        "\n",
        "        return features"
      ],
      "metadata": {
        "id": "JuCidLhtZ2Ka"
      },
      "execution_count": 6,
      "outputs": []
    },
    {
      "cell_type": "code",
      "source": [
        "def load_image(image_name):\n",
        "    image = Image.open(image_name).convert('RGB')\n",
        "    image = loader(image).unsqueeze(0)\n",
        "    return image.to(device)"
      ],
      "metadata": {
        "id": "ZkyDErm7cFEW"
      },
      "execution_count": 7,
      "outputs": []
    },
    {
      "cell_type": "code",
      "source": [
        "device = torch.device('cuda' if torch.cuda.is_available else 'cpu')\n",
        "image_size = 356\n",
        "loader = transforms.Compose([transforms.Resize((image_size, image_size)),\n",
        "                             transforms.ToTensor()])"
      ],
      "metadata": {
        "id": "Au54xL29cw2J"
      },
      "execution_count": 8,
      "outputs": []
    },
    {
      "cell_type": "markdown",
      "source": [
        "in this, the only thing that is 'trained' (the only thing that changes), is the the generated image. this is because the rest of the model will be frozen. note that the optimizer takes generated as the parameter"
      ],
      "metadata": {
        "id": "VT1ZAFHNg2DF"
      }
    },
    {
      "cell_type": "code",
      "source": [
        "original_image = load_image('girl.jpg')\n",
        "style_image = load_image('style2.png')\n",
        "generated = original_image.clone().requires_grad_(True)"
      ],
      "metadata": {
        "id": "9-ZB_C36dHFZ"
      },
      "execution_count": 9,
      "outputs": []
    },
    {
      "cell_type": "code",
      "source": [
        "original_image.shape, style_image.shape, generated.shape"
      ],
      "metadata": {
        "colab": {
          "base_uri": "https://localhost:8080/"
        },
        "id": "fXsIaGdoyDsO",
        "outputId": "798586bf-a43b-4d49-b04a-a6b330943b33"
      },
      "execution_count": 10,
      "outputs": [
        {
          "output_type": "execute_result",
          "data": {
            "text/plain": [
              "(torch.Size([1, 3, 356, 356]),\n",
              " torch.Size([1, 3, 356, 356]),\n",
              " torch.Size([1, 3, 356, 356]))"
            ]
          },
          "metadata": {},
          "execution_count": 10
        }
      ]
    },
    {
      "cell_type": "code",
      "source": [
        "model = VGG().to(device).eval() #.eval() will freeze the weights"
      ],
      "metadata": {
        "id": "lLrZ6womhr8J"
      },
      "execution_count": 11,
      "outputs": []
    },
    {
      "cell_type": "code",
      "source": [
        "# hyperparameters\n",
        "total_steps = 2000\n",
        "learning_rate = 0.001\n",
        "alpha = 1\n",
        "beta = 0.01"
      ],
      "metadata": {
        "id": "KrvKWXKEde7n"
      },
      "execution_count": 12,
      "outputs": []
    },
    {
      "cell_type": "code",
      "source": [
        "optimizer = optim.Adam([generated], lr=learning_rate)"
      ],
      "metadata": {
        "id": "0IkODBTDgpXJ"
      },
      "execution_count": 13,
      "outputs": []
    },
    {
      "cell_type": "markdown",
      "source": [
        "### without lr scheduler"
      ],
      "metadata": {
        "id": "8LG2qiVq9J57"
      }
    },
    {
      "cell_type": "code",
      "source": [
        "for step in range(total_steps):\n",
        "    generated_features = model(generated)\n",
        "    original_features = model(original_image)\n",
        "    style_features = model(style_image)\n",
        "\n",
        "    style_loss = content_loss = 0\n",
        "\n",
        "    for gen_feature, orig_feature, style_feature in zip(generated_features, original_features, style_features):\n",
        "        batch_size, channel, height, width = gen_feature.shape\n",
        "\n",
        "        content_loss += torch.mean((gen_feature - orig_feature) ** 2)\n",
        "\n",
        "        # Gram matrix\n",
        "\n",
        "        G = gen_feature.view(channel, height*width).mm(gen_feature.view(channel, height*width).t())\n",
        "\n",
        "        A = style_feature.view(channel, height*width).mm(style_feature.view(channel, height*width).t())\n",
        "\n",
        "        style_loss += torch.mean((G - A) ** 2)\n",
        "\n",
        "    total_loss = alpha*content_loss + beta*style_loss\n",
        "    optimizer.zero_grad()\n",
        "    total_loss.backward()\n",
        "    optimizer.step()\n",
        "\n",
        "    if step % 200 == 0:\n",
        "        print(total_loss)\n",
        "        save_image(generated, f'generate1_lr_{step}.png')\n",
        "\n",
        "                               "
      ],
      "metadata": {
        "colab": {
          "base_uri": "https://localhost:8080/"
        },
        "id": "PM19rEDAgvV0",
        "outputId": "d7b8e406-accf-4070-eae0-cd3d5391baf9"
      },
      "execution_count": 21,
      "outputs": [
        {
          "output_type": "stream",
          "name": "stdout",
          "text": [
            "tensor(175413., device='cuda:0', grad_fn=<AddBackward0>)\n",
            "tensor(11048.5977, device='cuda:0', grad_fn=<AddBackward0>)\n",
            "tensor(5833.7324, device='cuda:0', grad_fn=<AddBackward0>)\n",
            "tensor(3927.3828, device='cuda:0', grad_fn=<AddBackward0>)\n",
            "tensor(2959.5640, device='cuda:0', grad_fn=<AddBackward0>)\n",
            "tensor(2393.7466, device='cuda:0', grad_fn=<AddBackward0>)\n",
            "tensor(2042.1774, device='cuda:0', grad_fn=<AddBackward0>)\n",
            "tensor(1800.3988, device='cuda:0', grad_fn=<AddBackward0>)\n",
            "tensor(1615.1174, device='cuda:0', grad_fn=<AddBackward0>)\n",
            "tensor(1462.9871, device='cuda:0', grad_fn=<AddBackward0>)\n"
          ]
        }
      ]
    },
    {
      "cell_type": "markdown",
      "source": [
        "### with lr scheduler"
      ],
      "metadata": {
        "id": "9cJ4qKOB9Nfm"
      }
    },
    {
      "cell_type": "code",
      "source": [
        "from torch.optim import lr_scheduler"
      ],
      "metadata": {
        "id": "WNiUydEQ9dRm"
      },
      "execution_count": 14,
      "outputs": []
    },
    {
      "cell_type": "markdown",
      "source": [
        "#### attempt 1"
      ],
      "metadata": {
        "id": "yuFvhJ3WEon1"
      }
    },
    {
      "cell_type": "code",
      "source": [
        "# decay learning rate by a factor of 0.1 every x epochs. (logic for lr taken from the udemy pytorch course)\n",
        "exp_lr_scheduler = lr_scheduler.StepLR(optimizer, step_size=4, gamma=0.1, verbose=True)"
      ],
      "metadata": {
        "colab": {
          "base_uri": "https://localhost:8080/"
        },
        "id": "kP10xh3G9iRN",
        "outputId": "3a561add-1cc2-4c72-a615-99bf73c9c4c2"
      },
      "execution_count": 15,
      "outputs": [
        {
          "output_type": "stream",
          "name": "stdout",
          "text": [
            "Adjusting learning rate of group 0 to 1.0000e-03.\n"
          ]
        }
      ]
    },
    {
      "cell_type": "code",
      "source": [
        "for step in range(total_steps):\n",
        "    generated_features = model(generated)\n",
        "    original_features = model(original_image)\n",
        "    style_features = model(style_image)\n",
        "\n",
        "    style_loss = content_loss = 0\n",
        "\n",
        "    for gen_feature, orig_feature, style_feature in zip(generated_features, original_features, style_features):\n",
        "        batch_size, channel, height, width = gen_feature.shape\n",
        "\n",
        "        content_loss += torch.mean((gen_feature - orig_feature) ** 2)\n",
        "\n",
        "        # Gram matrix\n",
        "\n",
        "        G = gen_feature.view(channel, height*width).mm(gen_feature.view(channel, height*width).t())\n",
        "\n",
        "        A = style_feature.view(channel, height*width).mm(style_feature.view(channel, height*width).t())\n",
        "\n",
        "        style_loss += torch.mean((G - A) ** 2)\n",
        "\n",
        "    total_loss = alpha*content_loss + beta*style_loss\n",
        "    optimizer.zero_grad()\n",
        "    total_loss.backward()\n",
        "    optimizer.step()\n",
        "\n",
        "    if step % 200 == 0:\n",
        "        print(total_loss)\n",
        "        save_image(generated, f'generate1_lr_{step}.png')\n",
        "        exp_lr_scheduler.step()\n",
        "                              "
      ],
      "metadata": {
        "colab": {
          "base_uri": "https://localhost:8080/"
        },
        "id": "i6l02T36vGhh",
        "outputId": "eedaa4a8-2ccf-4ae1-b432-cee3ae46f991"
      },
      "execution_count": 16,
      "outputs": [
        {
          "output_type": "stream",
          "name": "stdout",
          "text": [
            "tensor(175413., device='cuda:0', grad_fn=<AddBackward0>)\n",
            "Adjusting learning rate of group 0 to 1.0000e-03.\n",
            "tensor(11045.3906, device='cuda:0', grad_fn=<AddBackward0>)\n",
            "Adjusting learning rate of group 0 to 1.0000e-03.\n",
            "tensor(5837.0718, device='cuda:0', grad_fn=<AddBackward0>)\n",
            "Adjusting learning rate of group 0 to 1.0000e-03.\n",
            "tensor(3927.6667, device='cuda:0', grad_fn=<AddBackward0>)\n",
            "Adjusting learning rate of group 0 to 1.0000e-04.\n",
            "tensor(3786.6021, device='cuda:0', grad_fn=<AddBackward0>)\n",
            "Adjusting learning rate of group 0 to 1.0000e-04.\n",
            "tensor(3641.1599, device='cuda:0', grad_fn=<AddBackward0>)\n",
            "Adjusting learning rate of group 0 to 1.0000e-04.\n",
            "tensor(3488.8774, device='cuda:0', grad_fn=<AddBackward0>)\n",
            "Adjusting learning rate of group 0 to 1.0000e-04.\n",
            "tensor(3333.9893, device='cuda:0', grad_fn=<AddBackward0>)\n",
            "Adjusting learning rate of group 0 to 1.0000e-05.\n",
            "tensor(3316.8914, device='cuda:0', grad_fn=<AddBackward0>)\n",
            "Adjusting learning rate of group 0 to 1.0000e-05.\n",
            "tensor(3298.7693, device='cuda:0', grad_fn=<AddBackward0>)\n",
            "Adjusting learning rate of group 0 to 1.0000e-05.\n"
          ]
        }
      ]
    },
    {
      "cell_type": "markdown",
      "source": [
        "oh no.. that only made learning much slower. we should try another step size and gamma. and maybe even update the initial learning rate"
      ],
      "metadata": {
        "id": "VJCJeVZzFDYn"
      }
    },
    {
      "cell_type": "markdown",
      "source": [
        "### Consider\n",
        "why does the loss differ between the without lr and with lr cases *before the learning rate is updated?*. we can see that the first loss matches between without lr and with lr scheduler. however, from the second loss there is a slight difference. loss is 11048.5977 in the one without lr and 11045.3906 for the one with lr sched. (Remember that the printout occurs every 200 epochs). how could this be, when nothing changes between the two cases, and the lr remains the same, and the only thing that is trained is the generated image? note that the lr is updated only after 4 steps. maybe it has something to do with the Adam optimizer? This can be checked by running a model without lr twice, and checking if the losses remain the same in both tries."
      ],
      "metadata": {
        "id": "EfCAWTYNCa30"
      }
    },
    {
      "cell_type": "markdown",
      "source": [
        "#### attempt 2"
      ],
      "metadata": {
        "id": "p2InYxhmE1p7"
      }
    },
    {
      "cell_type": "code",
      "source": [
        "optimizer = optim.Adam([generated], lr=0.005) \n",
        "exp_lr_scheduler = lr_scheduler.StepLR(optimizer, step_size=5, gamma=0.5, verbose=True) "
      ],
      "metadata": {
        "colab": {
          "base_uri": "https://localhost:8080/"
        },
        "id": "inMtAA1a-f3o",
        "outputId": "4c87cb7d-fa94-43f6-cd93-3cd6dc99f697"
      },
      "execution_count": 15,
      "outputs": [
        {
          "output_type": "stream",
          "name": "stdout",
          "text": [
            "Adjusting learning rate of group 0 to 5.0000e-03.\n"
          ]
        }
      ]
    },
    {
      "cell_type": "markdown",
      "source": [
        "increased the inital lr from 0.001 to 0.005. increased step size from 4 to 5. increased gamma from 0.1 to 0.5, so the decrease in lr after 5 steps will be more gradual.  \n",
        "the lr overall is quite high in this case. the initial lr is 5 times more than initial lr of the previous attempt, and the *final* lr is 2.5 times more than the *initial* lr of the previous attempt"
      ],
      "metadata": {
        "id": "wRA_VQ5WGclT"
      }
    },
    {
      "cell_type": "code",
      "source": [
        "running_total_loss = []\n",
        "for step in range(total_steps):\n",
        "    generated_features = model(generated)\n",
        "    original_features = model(original_image)\n",
        "    style_features = model(style_image)\n",
        "\n",
        "    style_loss = content_loss = 0\n",
        "\n",
        "    for gen_feature, orig_feature, style_feature in zip(generated_features, original_features, style_features):\n",
        "        batch_size, channel, height, width = gen_feature.shape\n",
        "\n",
        "        content_loss += torch.mean((gen_feature - orig_feature) ** 2)\n",
        "\n",
        "        # Gram matrix\n",
        "\n",
        "        G = gen_feature.view(channel, height*width).mm(gen_feature.view(channel, height*width).t())\n",
        "\n",
        "        A = style_feature.view(channel, height*width).mm(style_feature.view(channel, height*width).t())\n",
        "\n",
        "        style_loss += torch.mean((G - A) ** 2)\n",
        "\n",
        "    total_loss = alpha*content_loss + beta*style_loss\n",
        "    optimizer.zero_grad()\n",
        "    total_loss.backward()\n",
        "    optimizer.step()\n",
        "\n",
        "    running_total_loss.append(total_loss.item())\n",
        "\n",
        "    if step % 200 == 0:\n",
        "        print(total_loss)\n",
        "        save_image(generated, f'generate1_lr_{step}.png')\n",
        "        exp_lr_scheduler.step()\n",
        "                              "
      ],
      "metadata": {
        "colab": {
          "base_uri": "https://localhost:8080/"
        },
        "id": "6G1bOuRPCdVd",
        "outputId": "36a43d42-198a-4974-cd1e-39c68e185d95"
      },
      "execution_count": 16,
      "outputs": [
        {
          "output_type": "stream",
          "name": "stdout",
          "text": [
            "tensor(175413., device='cuda:0', grad_fn=<AddBackward0>)\n",
            "Adjusting learning rate of group 0 to 5.0000e-03.\n",
            "tensor(3151.6875, device='cuda:0', grad_fn=<AddBackward0>)\n",
            "Adjusting learning rate of group 0 to 5.0000e-03.\n",
            "tensor(1902.7616, device='cuda:0', grad_fn=<AddBackward0>)\n",
            "Adjusting learning rate of group 0 to 5.0000e-03.\n",
            "tensor(1433.2548, device='cuda:0', grad_fn=<AddBackward0>)\n",
            "Adjusting learning rate of group 0 to 5.0000e-03.\n",
            "tensor(1364.9904, device='cuda:0', grad_fn=<AddBackward0>)\n",
            "Adjusting learning rate of group 0 to 2.5000e-03.\n",
            "tensor(1028.1788, device='cuda:0', grad_fn=<AddBackward0>)\n",
            "Adjusting learning rate of group 0 to 2.5000e-03.\n",
            "tensor(950.4106, device='cuda:0', grad_fn=<AddBackward0>)\n",
            "Adjusting learning rate of group 0 to 2.5000e-03.\n",
            "tensor(880.0637, device='cuda:0', grad_fn=<AddBackward0>)\n",
            "Adjusting learning rate of group 0 to 2.5000e-03.\n",
            "tensor(823.6281, device='cuda:0', grad_fn=<AddBackward0>)\n",
            "Adjusting learning rate of group 0 to 2.5000e-03.\n",
            "tensor(768.7480, device='cuda:0', grad_fn=<AddBackward0>)\n",
            "Adjusting learning rate of group 0 to 1.2500e-03.\n"
          ]
        }
      ]
    },
    {
      "cell_type": "markdown",
      "source": [
        "Great! the final loss is much lower than when we tried without lr"
      ],
      "metadata": {
        "id": "76IBrFeuLEe_"
      }
    },
    {
      "cell_type": "code",
      "source": [
        "import matplotlib.pyplot as plt"
      ],
      "metadata": {
        "id": "UFA58EMpHEUB"
      },
      "execution_count": 17,
      "outputs": []
    },
    {
      "cell_type": "code",
      "source": [
        "plt.plot(np.arange(len(running_total_loss[100:])), running_total_loss[100:])"
      ],
      "metadata": {
        "colab": {
          "base_uri": "https://localhost:8080/",
          "height": 282
        },
        "id": "0zS1wFh6OX3r",
        "outputId": "38026e7e-3815-419e-fdcd-d3e6bbe829b0"
      },
      "execution_count": 28,
      "outputs": [
        {
          "output_type": "execute_result",
          "data": {
            "text/plain": [
              "[<matplotlib.lines.Line2D at 0x7fa414087b90>]"
            ]
          },
          "metadata": {},
          "execution_count": 28
        },
        {
          "output_type": "display_data",
          "data": {
            "image/png": "[encoded data removed]",
            "text/plain": [
              "<Figure size 432x288 with 1 Axes>"
            ]
          },
          "metadata": {
            "needs_background": "light"
          }
        }
      ]
    },
    {
      "cell_type": "code",
      "source": [
        "plt.plot(np.arange(600, 600 + len(running_total_loss[600:1000])), running_total_loss[600:1000])\n",
        "plt.title('zoomed in')"
      ],
      "metadata": {
        "colab": {
          "base_uri": "https://localhost:8080/",
          "height": 298
        },
        "id": "MjjZWBIsK6FZ",
        "outputId": "e4a9f901-9ed4-486a-f5d5-5d2002542a9a"
      },
      "execution_count": 25,
      "outputs": [
        {
          "output_type": "execute_result",
          "data": {
            "text/plain": [
              "Text(0.5, 1.0, 'zoomed in')"
            ]
          },
          "metadata": {},
          "execution_count": 25
        },
        {
          "output_type": "display_data",
          "data": {
            "image/png": "[encoded data removed]",
            "text/plain": [
              "<Figure size 432x288 with 1 Axes>"
            ]
          },
          "metadata": {
            "needs_background": "light"
          }
        }
      ]
    },
    {
      "cell_type": "markdown",
      "source": [
        "plot above shows epochs 600 - 1000. the lr was updated at epoch 800. We can see that before the lr update, the loss was bouncing around, but after the lr was updated from 0.005 to 0.025, the decrease in the loss became much smoother"
      ],
      "metadata": {
        "id": "gQputOxlNoVR"
      }
    },
    {
      "cell_type": "markdown",
      "source": [
        "### check"
      ],
      "metadata": {
        "id": "7CVh89kGX8h4"
      }
    },
    {
      "cell_type": "code",
      "source": [
        "G.shape # shape of the gram matrix. should be (channels x channels)"
      ],
      "metadata": {
        "colab": {
          "base_uri": "https://localhost:8080/"
        },
        "id": "dH22hFBWLAaQ",
        "outputId": "261c2659-51c9-4598-cf90-0e9fb311cab2"
      },
      "execution_count": 31,
      "outputs": [
        {
          "output_type": "execute_result",
          "data": {
            "text/plain": [
              "torch.Size([512, 512])"
            ]
          },
          "metadata": {},
          "execution_count": 31
        }
      ]
    },
    {
      "cell_type": "markdown",
      "source": [
        "it's 512x512 because layer 28 has 512 channels"
      ],
      "metadata": {
        "id": "e38IVk6rYYy4"
      }
    },
    {
      "cell_type": "code",
      "source": [
        "A.shape"
      ],
      "metadata": {
        "colab": {
          "base_uri": "https://localhost:8080/"
        },
        "id": "4_x_pQ3uX4ph",
        "outputId": "231971bd-9b8c-4cf7-c109-a7f85d18b6d7"
      },
      "execution_count": 32,
      "outputs": [
        {
          "output_type": "execute_result",
          "data": {
            "text/plain": [
              "torch.Size([512, 512])"
            ]
          },
          "metadata": {},
          "execution_count": 32
        }
      ]
    },
    {
      "cell_type": "code",
      "source": [
        "G"
      ],
      "metadata": {
        "colab": {
          "base_uri": "https://localhost:8080/"
        },
        "id": "vjXpo0GAYL9N",
        "outputId": "ae073289-97ed-4652-9cfb-14b05970acbc"
      },
      "execution_count": 33,
      "outputs": [
        {
          "output_type": "execute_result",
          "data": {
            "text/plain": [
              "tensor([[ 7306.5186, -5996.5781,   873.8995,  ...,  2587.3022,  6810.8730,\n",
              "           926.2065],\n",
              "        [-5996.5781, 10281.9375, -1387.1163,  ..., -1215.2292, -8009.5737,\n",
              "         -1209.7683],\n",
              "        [  873.8995, -1387.1163,  3099.5999,  ...,   184.0626,  3092.5254,\n",
              "           324.3484],\n",
              "        ...,\n",
              "        [ 2587.3022, -1215.2292,   184.0626,  ...,  3733.0955,  2751.0405,\n",
              "           612.7415],\n",
              "        [ 6810.8730, -8009.5737,  3092.5254,  ...,  2751.0405, 14962.1865,\n",
              "          1925.5958],\n",
              "        [  926.2065, -1209.7683,   324.3484,  ...,   612.7415,  1925.5958,\n",
              "          2532.4216]], device='cuda:0', grad_fn=<MmBackward0>)"
            ]
          },
          "metadata": {},
          "execution_count": 33
        }
      ]
    },
    {
      "cell_type": "code",
      "source": [
        ""
      ],
      "metadata": {
        "id": "0K7U3_pSYPHl"
      },
      "execution_count": null,
      "outputs": []
    }
  ]
}