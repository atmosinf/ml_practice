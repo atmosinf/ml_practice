{
 "cells": [
  {
   "cell_type": "markdown",
   "id": "4f25a74f",
   "metadata": {},
   "source": [
    "### in this notebook we'll explore the weighted random sampler. we'll also explore the best way to calculate weights "
   ]
  },
  {
   "cell_type": "markdown",
   "id": "b5132efb",
   "metadata": {},
   "source": [
    "Note: WeightedRandomSampler requrires a weight for each example, not for each class label. So we have to first find the class weights, and assign the class weight to each example under that class "
   ]
  },
  {
   "cell_type": "code",
   "execution_count": 1,
   "id": "103abd94",
   "metadata": {},
   "outputs": [],
   "source": [
    "import pandas as pd\n",
    "import seaborn as sns\n",
    "import matplotlib.pyplot as plt\n",
    "import os"
   ]
  },
  {
   "cell_type": "markdown",
   "id": "43b82fd4",
   "metadata": {},
   "source": [
    "#### load a highly imbalanced dataset "
   ]
  },
  {
   "cell_type": "code",
   "execution_count": 2,
   "id": "f825675b",
   "metadata": {},
   "outputs": [],
   "source": [
    "def get_filelist(dirname):\n",
    "    filelist = os.listdir(dirname)\n",
    "    allfiles = []\n",
    "    for f in filelist:\n",
    "        fullpath = f'{dirname}/{f}'\n",
    "        if os.path.isdir(fullpath):\n",
    "            allfiles = allfiles + get_filelist(fullpath)\n",
    "        else:\n",
    "            allfiles.append(fullpath)\n",
    "                \n",
    "    return allfiles"
   ]
  },
  {
   "cell_type": "code",
   "execution_count": 3,
   "id": "43ea2a4c",
   "metadata": {},
   "outputs": [],
   "source": [
    "ROOTDIR = '../../../arise_datasets/Lope-Waka_256/'"
   ]
  },
  {
   "cell_type": "code",
   "execution_count": 4,
   "id": "fa985432",
   "metadata": {},
   "outputs": [],
   "source": [
    "filelist = get_filelist(ROOTDIR)"
   ]
  },
  {
   "cell_type": "code",
   "execution_count": 5,
   "id": "f233a3be",
   "metadata": {},
   "outputs": [
    {
     "data": {
      "text/plain": [
       "44938"
      ]
     },
     "execution_count": 5,
     "metadata": {},
     "output_type": "execute_result"
    }
   ],
   "source": [
    "len(filelist)"
   ]
  },
  {
   "cell_type": "markdown",
   "id": "270575fc",
   "metadata": {},
   "source": [
    "#### get the labels "
   ]
  },
  {
   "cell_type": "code",
   "execution_count": 6,
   "id": "26830baa",
   "metadata": {},
   "outputs": [],
   "source": [
    "labels = []\n",
    "for file in filelist:\n",
    "    label = file.split('/')[-2]\n",
    "    labels.append(label)"
   ]
  },
  {
   "cell_type": "markdown",
   "id": "789809c4",
   "metadata": {},
   "source": [
    "#### put both in a dataframe "
   ]
  },
  {
   "cell_type": "code",
   "execution_count": 7,
   "id": "12b59184",
   "metadata": {},
   "outputs": [],
   "source": [
    "df = pd.DataFrame()"
   ]
  },
  {
   "cell_type": "code",
   "execution_count": 8,
   "id": "bb2da3ab",
   "metadata": {},
   "outputs": [],
   "source": [
    "df['imloc'] = filelist\n",
    "df['label'] = labels"
   ]
  },
  {
   "cell_type": "code",
   "execution_count": 9,
   "id": "a77ea4df",
   "metadata": {},
   "outputs": [
    {
     "data": {
      "text/html": [
       "<div>\n",
       "<style scoped>\n",
       "    .dataframe tbody tr th:only-of-type {\n",
       "        vertical-align: middle;\n",
       "    }\n",
       "\n",
       "    .dataframe tbody tr th {\n",
       "        vertical-align: top;\n",
       "    }\n",
       "\n",
       "    .dataframe thead th {\n",
       "        text-align: right;\n",
       "    }\n",
       "</style>\n",
       "<table border=\"1\" class=\"dataframe\">\n",
       "  <thead>\n",
       "    <tr style=\"text-align: right;\">\n",
       "      <th></th>\n",
       "      <th>imloc</th>\n",
       "      <th>label</th>\n",
       "    </tr>\n",
       "  </thead>\n",
       "  <tbody>\n",
       "    <tr>\n",
       "      <th>0</th>\n",
       "      <td>../../../arise_datasets/Lope-Waka_256//Aardvar...</td>\n",
       "      <td>Aardvark</td>\n",
       "    </tr>\n",
       "    <tr>\n",
       "      <th>1</th>\n",
       "      <td>../../../arise_datasets/Lope-Waka_256//Aardvar...</td>\n",
       "      <td>Aardvark</td>\n",
       "    </tr>\n",
       "    <tr>\n",
       "      <th>2</th>\n",
       "      <td>../../../arise_datasets/Lope-Waka_256//Aardvar...</td>\n",
       "      <td>Aardvark</td>\n",
       "    </tr>\n",
       "    <tr>\n",
       "      <th>3</th>\n",
       "      <td>../../../arise_datasets/Lope-Waka_256//Aardvar...</td>\n",
       "      <td>Aardvark</td>\n",
       "    </tr>\n",
       "    <tr>\n",
       "      <th>4</th>\n",
       "      <td>../../../arise_datasets/Lope-Waka_256//Aardvar...</td>\n",
       "      <td>Aardvark</td>\n",
       "    </tr>\n",
       "  </tbody>\n",
       "</table>\n",
       "</div>"
      ],
      "text/plain": [
       "                                               imloc     label\n",
       "0  ../../../arise_datasets/Lope-Waka_256//Aardvar...  Aardvark\n",
       "1  ../../../arise_datasets/Lope-Waka_256//Aardvar...  Aardvark\n",
       "2  ../../../arise_datasets/Lope-Waka_256//Aardvar...  Aardvark\n",
       "3  ../../../arise_datasets/Lope-Waka_256//Aardvar...  Aardvark\n",
       "4  ../../../arise_datasets/Lope-Waka_256//Aardvar...  Aardvark"
      ]
     },
     "execution_count": 9,
     "metadata": {},
     "output_type": "execute_result"
    }
   ],
   "source": [
    "df.head()"
   ]
  },
  {
   "cell_type": "markdown",
   "id": "c93f5d39",
   "metadata": {},
   "source": [
    "#### check the class distribution "
   ]
  },
  {
   "cell_type": "code",
   "execution_count": 10,
   "id": "f4e8146b",
   "metadata": {},
   "outputs": [
    {
     "data": {
      "text/html": [
       "<div>\n",
       "<style scoped>\n",
       "    .dataframe tbody tr th:only-of-type {\n",
       "        vertical-align: middle;\n",
       "    }\n",
       "\n",
       "    .dataframe tbody tr th {\n",
       "        vertical-align: top;\n",
       "    }\n",
       "\n",
       "    .dataframe thead th {\n",
       "        text-align: right;\n",
       "    }\n",
       "</style>\n",
       "<table border=\"1\" class=\"dataframe\">\n",
       "  <thead>\n",
       "    <tr style=\"text-align: right;\">\n",
       "      <th></th>\n",
       "      <th>label</th>\n",
       "      <th>num_images</th>\n",
       "    </tr>\n",
       "  </thead>\n",
       "  <tbody>\n",
       "    <tr>\n",
       "      <th>0</th>\n",
       "      <td>Blank</td>\n",
       "      <td>9643</td>\n",
       "    </tr>\n",
       "    <tr>\n",
       "      <th>1</th>\n",
       "      <td>Duiker_Ogilby</td>\n",
       "      <td>5406</td>\n",
       "    </tr>\n",
       "    <tr>\n",
       "      <th>2</th>\n",
       "      <td>Elephant_African</td>\n",
       "      <td>5033</td>\n",
       "    </tr>\n",
       "    <tr>\n",
       "      <th>3</th>\n",
       "      <td>Duiker_Blue</td>\n",
       "      <td>4195</td>\n",
       "    </tr>\n",
       "    <tr>\n",
       "      <th>4</th>\n",
       "      <td>Hog_Red_River</td>\n",
       "      <td>4156</td>\n",
       "    </tr>\n",
       "    <tr>\n",
       "      <th>...</th>\n",
       "      <td>...</td>\n",
       "      <td>...</td>\n",
       "    </tr>\n",
       "    <tr>\n",
       "      <th>56</th>\n",
       "      <td>Duiker_Black_Fronted</td>\n",
       "      <td>2</td>\n",
       "    </tr>\n",
       "    <tr>\n",
       "      <th>57</th>\n",
       "      <td>Cusimanse</td>\n",
       "      <td>2</td>\n",
       "    </tr>\n",
       "    <tr>\n",
       "      <th>58</th>\n",
       "      <td>Hornbill_African_Pied</td>\n",
       "      <td>1</td>\n",
       "    </tr>\n",
       "    <tr>\n",
       "      <th>59</th>\n",
       "      <td>Oyan_Central_African</td>\n",
       "      <td>1</td>\n",
       "    </tr>\n",
       "    <tr>\n",
       "      <th>60</th>\n",
       "      <td>Hawk_African_Harrier</td>\n",
       "      <td>1</td>\n",
       "    </tr>\n",
       "  </tbody>\n",
       "</table>\n",
       "<p>61 rows × 2 columns</p>\n",
       "</div>"
      ],
      "text/plain": [
       "                    label  num_images\n",
       "0                   Blank        9643\n",
       "1           Duiker_Ogilby        5406\n",
       "2        Elephant_African        5033\n",
       "3             Duiker_Blue        4195\n",
       "4           Hog_Red_River        4156\n",
       "..                    ...         ...\n",
       "56   Duiker_Black_Fronted           2\n",
       "57              Cusimanse           2\n",
       "58  Hornbill_African_Pied           1\n",
       "59   Oyan_Central_African           1\n",
       "60   Hawk_African_Harrier           1\n",
       "\n",
       "[61 rows x 2 columns]"
      ]
     },
     "execution_count": 10,
     "metadata": {},
     "output_type": "execute_result"
    }
   ],
   "source": [
    "dfcount = df['label'].value_counts().to_frame().reset_index()\n",
    "dfcount.columns = ['label','num_images']\n",
    "dfcount"
   ]
  },
  {
   "cell_type": "code",
   "execution_count": 11,
   "id": "ddfafe88",
   "metadata": {},
   "outputs": [
    {
     "data": {
      "image/png": "[encoded data removed]",
      "text/plain": [
       "<Figure size 1080x720 with 1 Axes>"
      ]
     },
     "metadata": {
      "needs_background": "light"
     },
     "output_type": "display_data"
    }
   ],
   "source": [
    "plt.figure(figsize=(15,10))\n",
    "ax = sns.barplot(x='label',y='num_images',data=dfcount)\n",
    "ax.bar_label(ax.containers[0])\n",
    "plt.xticks(rotation=90)\n",
    "plt.show()"
   ]
  },
  {
   "cell_type": "markdown",
   "id": "49b36254",
   "metadata": {},
   "source": [
    "### use WeightedRandomSampler"
   ]
  },
  {
   "cell_type": "code",
   "execution_count": 12,
   "id": "9b778c92",
   "metadata": {},
   "outputs": [],
   "source": [
    "import torch\n",
    "from torchvision.datasets import ImageFolder\n",
    "import os\n",
    "from torch.utils.data import WeightedRandomSampler, DataLoader\n",
    "import torchvision.transforms as transforms\n",
    "import torch.nn as nn"
   ]
  },
  {
   "cell_type": "markdown",
   "id": "315900c7",
   "metadata": {},
   "source": [
    "#### get the weights for each class "
   ]
  },
  {
   "cell_type": "code",
   "execution_count": 13,
   "id": "ff647afc",
   "metadata": {},
   "outputs": [],
   "source": [
    "transform = transforms.Compose([transforms.ToTensor(),\n",
    "                               transforms.Resize((224,224))])"
   ]
  },
  {
   "cell_type": "code",
   "execution_count": 14,
   "id": "e892914c",
   "metadata": {},
   "outputs": [],
   "source": [
    "traindataset = ImageFolder(root=ROOTDIR, transform=transform)"
   ]
  },
  {
   "cell_type": "code",
   "execution_count": 15,
   "id": "c74eded9",
   "metadata": {},
   "outputs": [
    {
     "data": {
      "text/plain": [
       "{'Aardvark': 0,\n",
       " 'Ape': 1,\n",
       " 'Badger_Honey': 2,\n",
       " 'Bird': 3,\n",
       " 'Blank': 4,\n",
       " 'Buffalo': 5,\n",
       " 'Bushbuck': 6,\n",
       " 'Cat_African_Golden': 7,\n",
       " 'Chevrotain_Water': 8,\n",
       " 'Chimpanzee': 9,\n",
       " 'Civet_African': 10,\n",
       " 'Civet_African_Palm': 11,\n",
       " 'Cusimanse': 12,\n",
       " 'Cusimanse_Cameroon': 13,\n",
       " 'Duiker_Bay': 14,\n",
       " 'Duiker_Black_Fronted': 15,\n",
       " 'Duiker_Blue': 16,\n",
       " 'Duiker_Ogilby': 17,\n",
       " 'Duiker_Peters': 18,\n",
       " 'Duiker_Red': 19,\n",
       " 'Duiker_White_Bellied': 20,\n",
       " 'Duiker_Yellow_Backed': 21,\n",
       " 'Elephant_African': 22,\n",
       " 'Francolin_Lathams_Forest': 23,\n",
       " 'Francolin_Scaly': 24,\n",
       " 'Genet': 25,\n",
       " 'Gorilla': 26,\n",
       " 'Guineafowl_Black': 27,\n",
       " 'Guineafowl_Crested': 28,\n",
       " 'Hawk_African_Harrier': 29,\n",
       " 'Hog_Red_River': 30,\n",
       " 'Hornbill_African_Pied': 31,\n",
       " 'Hornbill_White_Crested': 32,\n",
       " 'Human': 33,\n",
       " 'Kingfisher_Blue_Breasted': 34,\n",
       " 'Leopard': 35,\n",
       " 'Mandrill': 36,\n",
       " 'Mongoose': 37,\n",
       " 'Mongoose_Black_Footed': 38,\n",
       " 'Mongoose_Long_Nosed': 39,\n",
       " 'Mongoose_Marsh': 40,\n",
       " 'Monkey': 41,\n",
       " 'Monkey_Sun_Tailed': 42,\n",
       " 'Nicator_Western': 43,\n",
       " 'Owl_African_Wood': 44,\n",
       " 'Oyan_Central_African': 45,\n",
       " 'Pangolin_Giant': 46,\n",
       " 'Pangolin_White_Bellied': 47,\n",
       " 'Porcupine_African_Brush_Tailed': 48,\n",
       " 'Primate': 49,\n",
       " 'Rail_Nkulengu': 50,\n",
       " 'Rat_Emins': 51,\n",
       " 'Rat_Marsh_Cane': 52,\n",
       " 'Rockfowl_Grey_Necked': 53,\n",
       " 'Rodent': 54,\n",
       " 'Snake': 55,\n",
       " 'Squirrel': 56,\n",
       " 'Squirrel_African_Giant': 57,\n",
       " 'Squirrel_Fire_Footed_Rope': 58,\n",
       " 'Squirrel_Green_Bush': 59,\n",
       " 'Unknown': 60}"
      ]
     },
     "execution_count": 15,
     "metadata": {},
     "output_type": "execute_result"
    }
   ],
   "source": [
    "traindataset.class_to_idx"
   ]
  },
  {
   "cell_type": "markdown",
   "id": "1e06701a",
   "metadata": {},
   "source": [
    "#### get the class weights "
   ]
  },
  {
   "cell_type": "markdown",
   "id": "8fe947e6",
   "metadata": {},
   "source": [
    "the order of the labels in dfcount should match the order of the labels in traindataset.class_to_idx"
   ]
  },
  {
   "cell_type": "code",
   "execution_count": 16,
   "id": "d7c39161",
   "metadata": {},
   "outputs": [],
   "source": [
    "dfcount = dfcount.sort_values('label')"
   ]
  },
  {
   "cell_type": "code",
   "execution_count": 17,
   "id": "09331019",
   "metadata": {},
   "outputs": [
    {
     "data": {
      "text/html": [
       "<div>\n",
       "<style scoped>\n",
       "    .dataframe tbody tr th:only-of-type {\n",
       "        vertical-align: middle;\n",
       "    }\n",
       "\n",
       "    .dataframe tbody tr th {\n",
       "        vertical-align: top;\n",
       "    }\n",
       "\n",
       "    .dataframe thead th {\n",
       "        text-align: right;\n",
       "    }\n",
       "</style>\n",
       "<table border=\"1\" class=\"dataframe\">\n",
       "  <thead>\n",
       "    <tr style=\"text-align: right;\">\n",
       "      <th></th>\n",
       "      <th>label</th>\n",
       "      <th>num_images</th>\n",
       "    </tr>\n",
       "  </thead>\n",
       "  <tbody>\n",
       "    <tr>\n",
       "      <th>41</th>\n",
       "      <td>Aardvark</td>\n",
       "      <td>18</td>\n",
       "    </tr>\n",
       "    <tr>\n",
       "      <th>32</th>\n",
       "      <td>Ape</td>\n",
       "      <td>59</td>\n",
       "    </tr>\n",
       "    <tr>\n",
       "      <th>36</th>\n",
       "      <td>Badger_Honey</td>\n",
       "      <td>40</td>\n",
       "    </tr>\n",
       "    <tr>\n",
       "      <th>29</th>\n",
       "      <td>Bird</td>\n",
       "      <td>66</td>\n",
       "    </tr>\n",
       "    <tr>\n",
       "      <th>0</th>\n",
       "      <td>Blank</td>\n",
       "      <td>9643</td>\n",
       "    </tr>\n",
       "    <tr>\n",
       "      <th>...</th>\n",
       "      <td>...</td>\n",
       "      <td>...</td>\n",
       "    </tr>\n",
       "    <tr>\n",
       "      <th>25</th>\n",
       "      <td>Squirrel</td>\n",
       "      <td>90</td>\n",
       "    </tr>\n",
       "    <tr>\n",
       "      <th>12</th>\n",
       "      <td>Squirrel_African_Giant</td>\n",
       "      <td>799</td>\n",
       "    </tr>\n",
       "    <tr>\n",
       "      <th>40</th>\n",
       "      <td>Squirrel_Fire_Footed_Rope</td>\n",
       "      <td>27</td>\n",
       "    </tr>\n",
       "    <tr>\n",
       "      <th>46</th>\n",
       "      <td>Squirrel_Green_Bush</td>\n",
       "      <td>6</td>\n",
       "    </tr>\n",
       "    <tr>\n",
       "      <th>11</th>\n",
       "      <td>Unknown</td>\n",
       "      <td>983</td>\n",
       "    </tr>\n",
       "  </tbody>\n",
       "</table>\n",
       "<p>61 rows × 2 columns</p>\n",
       "</div>"
      ],
      "text/plain": [
       "                        label  num_images\n",
       "41                   Aardvark          18\n",
       "32                        Ape          59\n",
       "36               Badger_Honey          40\n",
       "29                       Bird          66\n",
       "0                       Blank        9643\n",
       "..                        ...         ...\n",
       "25                   Squirrel          90\n",
       "12     Squirrel_African_Giant         799\n",
       "40  Squirrel_Fire_Footed_Rope          27\n",
       "46        Squirrel_Green_Bush           6\n",
       "11                    Unknown         983\n",
       "\n",
       "[61 rows x 2 columns]"
      ]
     },
     "execution_count": 17,
     "metadata": {},
     "output_type": "execute_result"
    }
   ],
   "source": [
    "dfcount"
   ]
  },
  {
   "cell_type": "code",
   "execution_count": 19,
   "id": "848e2278",
   "metadata": {},
   "outputs": [],
   "source": [
    "class_weights = []\n",
    "for i in range(dfcount.shape[0]):\n",
    "    class_weight = 1/dfcount.iloc[i]['num_images']\n",
    "    class_weights.append(class_weight)"
   ]
  },
  {
   "cell_type": "code",
   "execution_count": 34,
   "id": "8b7741af",
   "metadata": {},
   "outputs": [
    {
     "name": "stdout",
     "output_type": "stream",
     "text": [
      "Aardvark 0.05555555555555555\n",
      "Ape 0.01694915254237288\n",
      "Badger_Honey 0.025\n",
      "Bird 0.015151515151515152\n",
      "Blank 0.00010370216737529814\n",
      "Buffalo 0.0027624309392265192\n",
      "Bushbuck 0.006622516556291391\n",
      "Cat_African_Golden 0.003676470588235294\n",
      "Chevrotain_Water 0.0034602076124567475\n",
      "Chimpanzee 0.0007122507122507123\n",
      "Civet_African 0.012345679012345678\n",
      "Civet_African_Palm 0.023809523809523808\n",
      "Cusimanse 0.5\n",
      "Cusimanse_Cameroon 0.5\n",
      "Duiker_Bay 0.0008865248226950354\n",
      "Duiker_Black_Fronted 0.5\n",
      "Duiker_Blue 0.00023837902264600716\n",
      "Duiker_Ogilby 0.0001849796522382538\n",
      "Duiker_Peters 0.00035486160397445\n",
      "Duiker_Red 0.0016722408026755853\n",
      "Duiker_White_Bellied 0.029411764705882353\n",
      "Duiker_Yellow_Backed 0.0005617977528089888\n",
      "Elephant_African 0.00019868865487780648\n",
      "Francolin_Lathams_Forest 0.14285714285714285\n",
      "Francolin_Scaly 0.3333333333333333\n",
      "Genet 0.005434782608695652\n",
      "Gorilla 0.0024271844660194173\n",
      "Guineafowl_Black 0.0024509803921568627\n",
      "Guineafowl_Crested 0.021739130434782608\n",
      "Hawk_African_Harrier 1.0\n",
      "Hog_Red_River 0.00024061597690086623\n",
      "Hornbill_African_Pied 1.0\n",
      "Hornbill_White_Crested 0.037037037037037035\n",
      "Human 0.0009041591320072332\n",
      "Kingfisher_Blue_Breasted 0.25\n",
      "Leopard 0.002105263157894737\n",
      "Mandrill 0.0005827505827505828\n",
      "Mongoose 0.012345679012345678\n",
      "Mongoose_Black_Footed 0.007462686567164179\n",
      "Mongoose_Long_Nosed 0.015625\n",
      "Mongoose_Marsh 0.02702702702702703\n",
      "Monkey 0.0196078431372549\n",
      "Monkey_Sun_Tailed 0.00980392156862745\n",
      "Nicator_Western 0.3333333333333333\n",
      "Owl_African_Wood 0.16666666666666666\n",
      "Oyan_Central_African 1.0\n",
      "Pangolin_Giant 0.011764705882352941\n",
      "Pangolin_White_Bellied 0.3333333333333333\n",
      "Porcupine_African_Brush_Tailed 0.002531645569620253\n",
      "Primate 0.14285714285714285\n",
      "Rail_Nkulengu 0.3333333333333333\n",
      "Rat_Emins 0.015625\n",
      "Rat_Marsh_Cane 0.25\n",
      "Rockfowl_Grey_Necked 0.1\n",
      "Rodent 0.16666666666666666\n",
      "Snake 0.16666666666666666\n",
      "Squirrel 0.011111111111111112\n",
      "Squirrel_African_Giant 0.0012515644555694619\n",
      "Squirrel_Fire_Footed_Rope 0.037037037037037035\n",
      "Squirrel_Green_Bush 0.16666666666666666\n",
      "Unknown 0.001017293997965412\n"
     ]
    }
   ],
   "source": [
    "cwdict = {}\n",
    "for c,w in zip(list(dfcount['label'].values), class_weights):    \n",
    "    cwdict[c] = w\n",
    "    print(c,w)"
   ]
  },
  {
   "cell_type": "markdown",
   "id": "78726d8b",
   "metadata": {},
   "source": [
    "#### now get the sample weights (weights for each image) "
   ]
  },
  {
   "cell_type": "code",
   "execution_count": 21,
   "id": "ffb0b2b7",
   "metadata": {},
   "outputs": [
    {
     "data": {
      "text/plain": [
       "44938"
      ]
     },
     "execution_count": 21,
     "metadata": {},
     "output_type": "execute_result"
    }
   ],
   "source": [
    "total_images = dfcount['num_images'].sum()\n",
    "total_images"
   ]
  },
  {
   "cell_type": "code",
   "execution_count": 22,
   "id": "c6bc170e",
   "metadata": {},
   "outputs": [],
   "source": [
    "sample_weights = [0] * total_images"
   ]
  },
  {
   "cell_type": "code",
   "execution_count": 23,
   "id": "a4f8c43d",
   "metadata": {},
   "outputs": [],
   "source": [
    "for idx, (image, label) in enumerate(traindataset):\n",
    "    class_weight = class_weights[label]\n",
    "    sample_weights[idx] = class_weight"
   ]
  },
  {
   "cell_type": "code",
   "execution_count": 24,
   "id": "6bc5d5ad",
   "metadata": {},
   "outputs": [
    {
     "data": {
      "text/plain": [
       "[0.05555555555555555,\n",
       " 0.05555555555555555,\n",
       " 0.05555555555555555,\n",
       " 0.05555555555555555,\n",
       " 0.05555555555555555,\n",
       " 0.05555555555555555,\n",
       " 0.05555555555555555,\n",
       " 0.05555555555555555,\n",
       " 0.05555555555555555,\n",
       " 0.05555555555555555]"
      ]
     },
     "execution_count": 24,
     "metadata": {},
     "output_type": "execute_result"
    }
   ],
   "source": [
    "sample_weights[:10]"
   ]
  },
  {
   "cell_type": "code",
   "execution_count": 25,
   "id": "1a7062ad",
   "metadata": {},
   "outputs": [
    {
     "data": {
      "text/plain": [
       "44938"
      ]
     },
     "execution_count": 25,
     "metadata": {},
     "output_type": "execute_result"
    }
   ],
   "source": [
    "len(sample_weights)"
   ]
  },
  {
   "cell_type": "code",
   "execution_count": 26,
   "id": "32039837",
   "metadata": {},
   "outputs": [
    {
     "data": {
      "text/plain": [
       "44938"
      ]
     },
     "execution_count": 26,
     "metadata": {},
     "output_type": "execute_result"
    }
   ],
   "source": [
    "len(traindataset)"
   ]
  },
  {
   "cell_type": "code",
   "execution_count": 27,
   "id": "40022e18",
   "metadata": {},
   "outputs": [
    {
     "data": {
      "text/plain": [
       "((tensor([[[0.0154, 0.0154, 0.0157,  ..., 0.0434, 0.0395, 0.0395],\n",
       "           [0.0118, 0.0118, 0.0148,  ..., 0.0487, 0.0448, 0.0448],\n",
       "           [0.0118, 0.0118, 0.0118,  ..., 0.0567, 0.0538, 0.0527],\n",
       "           ...,\n",
       "           [0.0864, 0.1154, 0.1463,  ..., 0.0821, 0.0945, 0.1008],\n",
       "           [0.0803, 0.1103, 0.1452,  ..., 0.0913, 0.0928, 0.0910],\n",
       "           [0.0677, 0.0977, 0.1265,  ..., 0.0952, 0.0904, 0.0875]],\n",
       "  \n",
       "          [[0.0154, 0.0154, 0.0157,  ..., 0.0434, 0.0395, 0.0395],\n",
       "           [0.0118, 0.0118, 0.0148,  ..., 0.0487, 0.0448, 0.0448],\n",
       "           [0.0118, 0.0118, 0.0118,  ..., 0.0567, 0.0538, 0.0527],\n",
       "           ...,\n",
       "           [0.1203, 0.1493, 0.1830,  ..., 0.0835, 0.0959, 0.1022],\n",
       "           [0.1125, 0.1425, 0.1774,  ..., 0.0852, 0.0866, 0.0849],\n",
       "           [0.0954, 0.1254, 0.1601,  ..., 0.0874, 0.0826, 0.0797]],\n",
       "  \n",
       "          [[0.0154, 0.0154, 0.0157,  ..., 0.0434, 0.0395, 0.0395],\n",
       "           [0.0118, 0.0118, 0.0148,  ..., 0.0487, 0.0448, 0.0448],\n",
       "           [0.0118, 0.0118, 0.0118,  ..., 0.0567, 0.0538, 0.0527],\n",
       "           ...,\n",
       "           [0.1459, 0.1711, 0.2034,  ..., 0.0942, 0.1065, 0.1128],\n",
       "           [0.1597, 0.1836, 0.2172,  ..., 0.0961, 0.0976, 0.0958],\n",
       "           [0.1573, 0.1869, 0.2094,  ..., 0.0992, 0.0943, 0.0914]]]),\n",
       "  0),\n",
       " 0.05555555555555555)"
      ]
     },
     "execution_count": 27,
     "metadata": {},
     "output_type": "execute_result"
    }
   ],
   "source": [
    "traindataset[1], sample_weights[1]"
   ]
  },
  {
   "cell_type": "code",
   "execution_count": 28,
   "id": "09377408",
   "metadata": {},
   "outputs": [
    {
     "name": "stdout",
     "output_type": "stream",
     "text": [
      "Aardvark\n"
     ]
    }
   ],
   "source": [
    "# get the label from the class index\n",
    "print(list(traindataset.class_to_idx.keys())[list(traindataset.class_to_idx.values()).index(0)])"
   ]
  },
  {
   "cell_type": "markdown",
   "id": "da68d999",
   "metadata": {},
   "source": [
    "check if the weight for the sample matches the weight of the class in which the sample belongs"
   ]
  },
  {
   "cell_type": "code",
   "execution_count": 35,
   "id": "770a2f56",
   "metadata": {},
   "outputs": [
    {
     "data": {
      "text/plain": [
       "0.05555555555555555"
      ]
     },
     "execution_count": 35,
     "metadata": {},
     "output_type": "execute_result"
    }
   ],
   "source": [
    "cwdict['Aardvark']"
   ]
  },
  {
   "cell_type": "markdown",
   "id": "10d3bb0b",
   "metadata": {},
   "source": [
    "**class weights were assigned to samples as sample weights successfully!**"
   ]
  },
  {
   "cell_type": "markdown",
   "id": "af30dc15",
   "metadata": {},
   "source": [
    "#### create the sampler "
   ]
  },
  {
   "cell_type": "code",
   "execution_count": 73,
   "id": "a13f85ce",
   "metadata": {},
   "outputs": [],
   "source": [
    "sampler = WeightedRandomSampler(sample_weights, num_samples=len(sample_weights), replacement=True)"
   ]
  },
  {
   "cell_type": "code",
   "execution_count": 74,
   "id": "6b7c2452",
   "metadata": {},
   "outputs": [
    {
     "data": {
      "text/plain": [
       "torch.utils.data.sampler.WeightedRandomSampler"
      ]
     },
     "execution_count": 74,
     "metadata": {},
     "output_type": "execute_result"
    }
   ],
   "source": [
    "type(sampler)"
   ]
  },
  {
   "cell_type": "code",
   "execution_count": 75,
   "id": "7fd8ccc1",
   "metadata": {},
   "outputs": [
    {
     "data": {
      "text/plain": [
       "(44938, 44938)"
      ]
     },
     "execution_count": 75,
     "metadata": {},
     "output_type": "execute_result"
    }
   ],
   "source": [
    "len(sampler), len(sample_weights)"
   ]
  },
  {
   "cell_type": "markdown",
   "id": "3a2a6b5c",
   "metadata": {},
   "source": [
    "the num_samples parameter in WeightedRandomSampler is the number of samples you want to draw during an epoch. \n",
    "source: https://discuss.pytorch.org/t/weightedrandomsampler-batch-size-argument-vs-dataloader-batch-size/35547"
   ]
  },
  {
   "cell_type": "markdown",
   "id": "86827831",
   "metadata": {},
   "source": [
    "#### create the dataloader "
   ]
  },
  {
   "cell_type": "code",
   "execution_count": 79,
   "id": "d8a733be",
   "metadata": {},
   "outputs": [],
   "source": [
    "batch_size = 128"
   ]
  },
  {
   "cell_type": "code",
   "execution_count": 80,
   "id": "7d88d942",
   "metadata": {},
   "outputs": [],
   "source": [
    "trainloader = DataLoader(traindataset, batch_size=batch_size, sampler=sampler)"
   ]
  },
  {
   "cell_type": "code",
   "execution_count": 85,
   "id": "7577070b",
   "metadata": {},
   "outputs": [
    {
     "name": "stdout",
     "output_type": "stream",
     "text": [
      "[16, 18, 50, 59, 5, 57, 16, 8, 53, 15, 11, 8, 50, 9, 9, 8, 43, 58, 21, 14, 25, 42, 40, 32, 29, 23, 39, 49, 52, 28, 57, 60, 1, 16, 22, 53, 11, 53, 0, 59, 53, 40, 23, 60, 20, 33, 34, 54, 41, 2, 58, 48, 57, 25, 9, 38, 20, 44, 46, 33, 35, 27, 24, 30, 51, 13, 17, 4, 16, 36, 39, 34, 35, 21, 38, 12, 26, 57, 33, 28, 50, 57, 1, 41, 58, 26, 17, 5, 29, 42, 18, 52, 10, 20, 17, 28, 53, 54, 51, 4, 57, 22, 36, 55, 29, 36, 59, 6, 56, 15, 48, 45, 35, 15, 14, 19, 14, 32, 30, 1, 60, 5, 38, 11, 4, 14, 41, 58]\n"
     ]
    }
   ],
   "source": [
    "images, labels = next(iter(trainloader))\n",
    "print(labels.tolist())"
   ]
  },
  {
   "cell_type": "markdown",
   "id": "c50bb95c",
   "metadata": {},
   "source": [
    "#### experiment by running the trainloader 100 times, and plot the distribution of the labels"
   ]
  },
  {
   "cell_type": "code",
   "execution_count": 90,
   "id": "7cbe74b7",
   "metadata": {},
   "outputs": [],
   "source": [
    "dloader_labels = []\n",
    "for i in range(100):\n",
    "    images, labels = next(iter(trainloader))\n",
    "    dloader_labels = dloader_labels + labels.tolist()"
   ]
  },
  {
   "cell_type": "code",
   "execution_count": null,
   "id": "0590bdee",
   "metadata": {},
   "outputs": [],
   "source": []
  },
  {
   "cell_type": "code",
   "execution_count": 91,
   "id": "f4cd03bb",
   "metadata": {},
   "outputs": [
    {
     "data": {
      "image/png": "[encoded data removed]",
      "text/plain": [
       "<Figure size 432x288 with 1 Axes>"
      ]
     },
     "metadata": {
      "needs_background": "light"
     },
     "output_type": "display_data"
    }
   ],
   "source": [
    "plt.hist(dloader_labels, bins=61)\n",
    "plt.show()"
   ]
  },
  {
   "cell_type": "code",
   "execution_count": 94,
   "id": "c73dfbe1",
   "metadata": {},
   "outputs": [],
   "source": [
    "dloader_labels_remapped = []\n",
    "for l in dloader_labels:\n",
    "    labtext = list(traindataset.class_to_idx.keys())[list(traindataset.class_to_idx.values()).index(l)]\n",
    "    dloader_labels_remapped.append(labtext)"
   ]
  },
  {
   "cell_type": "code",
   "execution_count": 99,
   "id": "10bd4af0",
   "metadata": {},
   "outputs": [
    {
     "data": {
      "image/png": "[encoded data removed]",
      "text/plain": [
       "<Figure size 1080x720 with 1 Axes>"
      ]
     },
     "metadata": {
      "needs_background": "light"
     },
     "output_type": "display_data"
    }
   ],
   "source": [
    "plt.figure(figsize=(15,10))\n",
    "plt.hist(dloader_labels_remapped, bins=61)\n",
    "plt.xticks(rotation=90)\n",
    "plt.show()"
   ]
  },
  {
   "cell_type": "markdown",
   "id": "d457536e",
   "metadata": {},
   "source": [
    "**Great! the distribution returned by the sampler looks uniform. so the sampler works!**"
   ]
  },
  {
   "cell_type": "markdown",
   "id": "1c96a3af",
   "metadata": {},
   "source": [
    "Note: <br>\n",
    "you may have noticed that the distribution plotted with the class ids, and the distribtution plotted with the class names look different. this is because the class ids are plotted in order, while the class names are not"
   ]
  },
  {
   "cell_type": "code",
   "execution_count": 101,
   "id": "8405284b",
   "metadata": {},
   "outputs": [
    {
     "name": "stdout",
     "output_type": "stream",
     "text": [
      "12 Cusimanse\n",
      "44 Owl_African_Wood\n",
      "23 Francolin_Lathams_Forest\n",
      "17 Duiker_Ogilby\n",
      "35 Leopard\n"
     ]
    }
   ],
   "source": [
    "for i,t in zip(dloader_labels[:5], dloader_labels_remapped[:5]):\n",
    "    print(i, t)"
   ]
  },
  {
   "cell_type": "markdown",
   "id": "9decd6bf",
   "metadata": {},
   "source": [
    "### appendix "
   ]
  },
  {
   "cell_type": "code",
   "execution_count": 107,
   "id": "3b598fba",
   "metadata": {},
   "outputs": [],
   "source": [
    "sample_label_count_dict = {}\n",
    "for lab in list(set(dloader_labels_remapped)):\n",
    "    sample_label_count_dict[lab] = 0"
   ]
  },
  {
   "cell_type": "code",
   "execution_count": 108,
   "id": "a1aecb5f",
   "metadata": {},
   "outputs": [
    {
     "data": {
      "text/plain": [
       "{'Pangolin_White_Bellied': 0,\n",
       " 'Monkey': 0,\n",
       " 'Squirrel_Fire_Footed_Rope': 0,\n",
       " 'Leopard': 0,\n",
       " 'Oyan_Central_African': 0,\n",
       " 'Snake': 0,\n",
       " 'Buffalo': 0,\n",
       " 'Bushbuck': 0,\n",
       " 'Rat_Marsh_Cane': 0,\n",
       " 'Cusimanse': 0,\n",
       " 'Hornbill_White_Crested': 0,\n",
       " 'Squirrel_Green_Bush': 0,\n",
       " 'Rat_Emins': 0,\n",
       " 'Mongoose_Long_Nosed': 0,\n",
       " 'Blank': 0,\n",
       " 'Mandrill': 0,\n",
       " 'Aardvark': 0,\n",
       " 'Rodent': 0,\n",
       " 'Duiker_Bay': 0,\n",
       " 'Pangolin_Giant': 0,\n",
       " 'Human': 0,\n",
       " 'Duiker_Ogilby': 0,\n",
       " 'Duiker_Black_Fronted': 0,\n",
       " 'Mongoose': 0,\n",
       " 'Hawk_African_Harrier': 0,\n",
       " 'Nicator_Western': 0,\n",
       " 'Hog_Red_River': 0,\n",
       " 'Elephant_African': 0,\n",
       " 'Owl_African_Wood': 0,\n",
       " 'Duiker_Red': 0,\n",
       " 'Squirrel_African_Giant': 0,\n",
       " 'Squirrel': 0,\n",
       " 'Hornbill_African_Pied': 0,\n",
       " 'Ape': 0,\n",
       " 'Cat_African_Golden': 0,\n",
       " 'Guineafowl_Crested': 0,\n",
       " 'Guineafowl_Black': 0,\n",
       " 'Mongoose_Black_Footed': 0,\n",
       " 'Monkey_Sun_Tailed': 0,\n",
       " 'Duiker_White_Bellied': 0,\n",
       " 'Francolin_Lathams_Forest': 0,\n",
       " 'Unknown': 0,\n",
       " 'Rail_Nkulengu': 0,\n",
       " 'Primate': 0,\n",
       " 'Rockfowl_Grey_Necked': 0,\n",
       " 'Genet': 0,\n",
       " 'Duiker_Blue': 0,\n",
       " 'Civet_African_Palm': 0,\n",
       " 'Duiker_Peters': 0,\n",
       " 'Gorilla': 0,\n",
       " 'Duiker_Yellow_Backed': 0,\n",
       " 'Chimpanzee': 0,\n",
       " 'Cusimanse_Cameroon': 0,\n",
       " 'Mongoose_Marsh': 0,\n",
       " 'Civet_African': 0,\n",
       " 'Kingfisher_Blue_Breasted': 0,\n",
       " 'Badger_Honey': 0,\n",
       " 'Bird': 0,\n",
       " 'Porcupine_African_Brush_Tailed': 0,\n",
       " 'Chevrotain_Water': 0,\n",
       " 'Francolin_Scaly': 0}"
      ]
     },
     "execution_count": 108,
     "metadata": {},
     "output_type": "execute_result"
    }
   ],
   "source": [
    "sample_label_count_dict"
   ]
  },
  {
   "cell_type": "code",
   "execution_count": 109,
   "id": "8c976d3b",
   "metadata": {},
   "outputs": [],
   "source": [
    "for lab in dloader_labels_remapped:\n",
    "    sample_label_count_dict[lab] += 1"
   ]
  },
  {
   "cell_type": "code",
   "execution_count": 111,
   "id": "92e1922f",
   "metadata": {},
   "outputs": [
    {
     "data": {
      "text/plain": [
       "{'Pangolin_White_Bellied': 223,\n",
       " 'Monkey': 212,\n",
       " 'Squirrel_Fire_Footed_Rope': 211,\n",
       " 'Leopard': 218,\n",
       " 'Oyan_Central_African': 218,\n",
       " 'Snake': 174,\n",
       " 'Buffalo': 215,\n",
       " 'Bushbuck': 211,\n",
       " 'Rat_Marsh_Cane': 217,\n",
       " 'Cusimanse': 199,\n",
       " 'Hornbill_White_Crested': 210,\n",
       " 'Squirrel_Green_Bush': 215,\n",
       " 'Rat_Emins': 229,\n",
       " 'Mongoose_Long_Nosed': 208,\n",
       " 'Blank': 176,\n",
       " 'Mandrill': 198,\n",
       " 'Aardvark': 206,\n",
       " 'Rodent': 196,\n",
       " 'Duiker_Bay': 217,\n",
       " 'Pangolin_Giant': 201,\n",
       " 'Human': 220,\n",
       " 'Duiker_Ogilby': 195,\n",
       " 'Duiker_Black_Fronted': 210,\n",
       " 'Mongoose': 211,\n",
       " 'Hawk_African_Harrier': 243,\n",
       " 'Nicator_Western': 183,\n",
       " 'Hog_Red_River': 204,\n",
       " 'Elephant_African': 241,\n",
       " 'Owl_African_Wood': 201,\n",
       " 'Duiker_Red': 220,\n",
       " 'Squirrel_African_Giant': 201,\n",
       " 'Squirrel': 217,\n",
       " 'Hornbill_African_Pied': 228,\n",
       " 'Ape': 213,\n",
       " 'Cat_African_Golden': 209,\n",
       " 'Guineafowl_Crested': 211,\n",
       " 'Guineafowl_Black': 209,\n",
       " 'Mongoose_Black_Footed': 196,\n",
       " 'Monkey_Sun_Tailed': 191,\n",
       " 'Duiker_White_Bellied': 211,\n",
       " 'Francolin_Lathams_Forest': 230,\n",
       " 'Unknown': 188,\n",
       " 'Rail_Nkulengu': 191,\n",
       " 'Primate': 192,\n",
       " 'Rockfowl_Grey_Necked': 220,\n",
       " 'Genet': 203,\n",
       " 'Duiker_Blue': 226,\n",
       " 'Civet_African_Palm': 217,\n",
       " 'Duiker_Peters': 242,\n",
       " 'Gorilla': 188,\n",
       " 'Duiker_Yellow_Backed': 218,\n",
       " 'Chimpanzee': 222,\n",
       " 'Cusimanse_Cameroon': 188,\n",
       " 'Mongoose_Marsh': 208,\n",
       " 'Civet_African': 219,\n",
       " 'Kingfisher_Blue_Breasted': 222,\n",
       " 'Badger_Honey': 214,\n",
       " 'Bird': 215,\n",
       " 'Porcupine_African_Brush_Tailed': 188,\n",
       " 'Chevrotain_Water': 224,\n",
       " 'Francolin_Scaly': 217}"
      ]
     },
     "execution_count": 111,
     "metadata": {},
     "output_type": "execute_result"
    }
   ],
   "source": [
    "sample_label_count_dict"
   ]
  },
  {
   "cell_type": "code",
   "execution_count": null,
   "id": "557938aa",
   "metadata": {},
   "outputs": [],
   "source": []
  }
 ],
 "metadata": {
  "kernelspec": {
   "display_name": "myenv",
   "language": "python",
   "name": "myenv"
  },
  "language_info": {
   "codemirror_mode": {
    "name": "ipython",
    "version": 3
   },
   "file_extension": ".py",
   "mimetype": "text/x-python",
   "name": "python",
   "nbconvert_exporter": "python",
   "pygments_lexer": "ipython3",
   "version": "3.9.12"
  }
 },
 "nbformat": 4,
 "nbformat_minor": 5
}
