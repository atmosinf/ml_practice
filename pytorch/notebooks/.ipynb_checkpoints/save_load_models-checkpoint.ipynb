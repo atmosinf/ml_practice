{
 "cells": [
  {
   "cell_type": "markdown",
   "id": "be774396",
   "metadata": {},
   "source": [
    "### in this notebook we'll learn how to save and load models"
   ]
  },
  {
   "cell_type": "markdown",
   "id": "ce88c97a",
   "metadata": {},
   "source": [
    "Let's create a model that approximates a function"
   ]
  }
 ],
 "metadata": {
  "kernelspec": {
   "display_name": "udacitycvenv",
   "language": "python",
   "name": "udacitycvenv"
  },
  "language_info": {
   "codemirror_mode": {
    "name": "ipython",
    "version": 3
   },
   "file_extension": ".py",
   "mimetype": "text/x-python",
   "name": "python",
   "nbconvert_exporter": "python",
   "pygments_lexer": "ipython3",
   "version": "3.9.0"
  }
 },
 "nbformat": 4,
 "nbformat_minor": 5
}
