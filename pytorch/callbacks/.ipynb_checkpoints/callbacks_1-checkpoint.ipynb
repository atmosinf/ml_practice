{
 "cells": [
  {
   "cell_type": "markdown",
   "id": "deaa737a",
   "metadata": {},
   "source": [
    "## in this notebook we'll learn how to use callbacks in pytorch"
   ]
  },
  {
   "cell_type": "markdown",
   "id": "9b9286ef",
   "metadata": {},
   "source": [
    "due to the nature of how jobs are run in pytorch, it may be quite easy to create a simple callback. for instance, stop training if the loss does not go down over 5 iterations. but let's see if there is a better way to do this"
   ]
  },
  {
   "cell_type": "markdown",
   "id": "c6e6599e",
   "metadata": {},
   "source": [
    "### let's first create a custom callback that stops training if the loss does not decrease significantly over 5 iterations"
   ]
  },
  {
   "cell_type": "code",
   "execution_count": 37,
   "id": "bb54fa88",
   "metadata": {},
   "outputs": [],
   "source": [
    "import torch\n",
    "import torch.nn as nn\n",
    "import torch.nn.functional as F\n",
    "from torch import optim\n",
    "import matplotlib.pyplot as plt\n",
    "import numpy as np"
   ]
  },
  {
   "cell_type": "markdown",
   "id": "5ecfb7ad",
   "metadata": {},
   "source": [
    "create a random function to generate ytrue"
   ]
  },
  {
   "cell_type": "code",
   "execution_count": 13,
   "id": "479189a7",
   "metadata": {},
   "outputs": [],
   "source": [
    "def f(x):\n",
    "    return 5*x + 1"
   ]
  },
  {
   "cell_type": "code",
   "execution_count": 146,
   "id": "ed875654",
   "metadata": {},
   "outputs": [],
   "source": [
    "xtrain = torch.rand((10000,1)) "
   ]
  },
  {
   "cell_type": "code",
   "execution_count": 147,
   "id": "d07db4cc",
   "metadata": {},
   "outputs": [],
   "source": [
    "ytrue = f(xtrain)"
   ]
  },
  {
   "cell_type": "code",
   "execution_count": 148,
   "id": "ba20ef3a",
   "metadata": {},
   "outputs": [
    {
     "data": {
      "text/plain": [
       "torch.Size([10000, 1])"
      ]
     },
     "execution_count": 148,
     "metadata": {},
     "output_type": "execute_result"
    }
   ],
   "source": [
    "xtrain.shape"
   ]
  },
  {
   "cell_type": "code",
   "execution_count": 149,
   "id": "4f8c3dc8",
   "metadata": {},
   "outputs": [
    {
     "data": {
      "text/plain": [
       "torch.Size([10000, 1])"
      ]
     },
     "execution_count": 149,
     "metadata": {},
     "output_type": "execute_result"
    }
   ],
   "source": [
    "ytrue.shape"
   ]
  },
  {
   "cell_type": "markdown",
   "id": "9726d0ce",
   "metadata": {},
   "source": [
    "let's display some samples"
   ]
  },
  {
   "cell_type": "code",
   "execution_count": 150,
   "id": "2c795f9e",
   "metadata": {},
   "outputs": [
    {
     "data": {
      "text/plain": [
       "[(tensor([0.8311]), tensor([5.1555])),\n",
       " (tensor([0.1807]), tensor([1.9033])),\n",
       " (tensor([0.0048]), tensor([1.0238])),\n",
       " (tensor([0.5877]), tensor([3.9384])),\n",
       " (tensor([0.2771]), tensor([2.3856]))]"
      ]
     },
     "execution_count": 150,
     "metadata": {},
     "output_type": "execute_result"
    }
   ],
   "source": [
    "[(a,b) for i,(a,b) in enumerate(zip(xtrain, ytrue)) if i < 5]"
   ]
  },
  {
   "cell_type": "code",
   "execution_count": 151,
   "id": "22103d43",
   "metadata": {},
   "outputs": [
    {
     "data": {
      "text/plain": [
       "4.7055"
      ]
     },
     "execution_count": 151,
     "metadata": {},
     "output_type": "execute_result"
    }
   ],
   "source": [
    "5*0.7411 + 1"
   ]
  },
  {
   "cell_type": "markdown",
   "id": "651ed79f",
   "metadata": {},
   "source": [
    "seems to work as expected"
   ]
  },
  {
   "cell_type": "markdown",
   "id": "a74ab918",
   "metadata": {},
   "source": [
    "### create a model"
   ]
  },
  {
   "cell_type": "code",
   "execution_count": 160,
   "id": "55c9398e",
   "metadata": {},
   "outputs": [],
   "source": [
    "class Model1(nn.Module):\n",
    "    def __init__(self):\n",
    "        super().__init__()\n",
    "        self.fc1 = nn.Linear(1, 1)\n",
    "        \n",
    "    def forward(self, x):\n",
    "        x = self.fc1(x)\n",
    "        \n",
    "        return x"
   ]
  },
  {
   "cell_type": "code",
   "execution_count": 161,
   "id": "d1ef9653",
   "metadata": {},
   "outputs": [],
   "source": [
    "model1 = Model1()"
   ]
  },
  {
   "cell_type": "code",
   "execution_count": 162,
   "id": "dc0af6f4",
   "metadata": {},
   "outputs": [
    {
     "data": {
      "text/plain": [
       "Model1(\n",
       "  (fc1): Linear(in_features=1, out_features=1, bias=True)\n",
       ")"
      ]
     },
     "execution_count": 162,
     "metadata": {},
     "output_type": "execute_result"
    }
   ],
   "source": [
    "model1"
   ]
  },
  {
   "cell_type": "code",
   "execution_count": 163,
   "id": "54c31210",
   "metadata": {},
   "outputs": [],
   "source": [
    "criterion = nn.L1Loss()\n",
    "optimizer = optim.Adam(model1.parameters())"
   ]
  },
  {
   "cell_type": "code",
   "execution_count": 164,
   "id": "73fd3984",
   "metadata": {},
   "outputs": [],
   "source": [
    "epochs = 10000"
   ]
  },
  {
   "cell_type": "code",
   "execution_count": 165,
   "id": "f8bf0167",
   "metadata": {},
   "outputs": [
    {
     "name": "stdout",
     "output_type": "stream",
     "text": [
      "epoch: 0, loss: 3.9034292697906494\n",
      "epoch: 100, loss: 3.7534878253936768\n",
      "epoch: 200, loss: 3.6035468578338623\n",
      "epoch: 300, loss: 3.4536054134368896\n",
      "epoch: 400, loss: 3.3036651611328125\n",
      "epoch: 500, loss: 3.1537253856658936\n",
      "epoch: 600, loss: 3.0037853717803955\n",
      "epoch: 700, loss: 2.8538451194763184\n",
      "epoch: 800, loss: 2.703904867172241\n",
      "epoch: 900, loss: 2.553964376449585\n",
      "epoch: 1000, loss: 2.4040238857269287\n",
      "epoch: 1100, loss: 2.2560954093933105\n",
      "epoch: 1200, loss: 2.1150102615356445\n",
      "epoch: 1300, loss: 1.981341004371643\n",
      "epoch: 1400, loss: 1.8552346229553223\n",
      "epoch: 1500, loss: 1.7361671924591064\n",
      "epoch: 1600, loss: 1.6241812705993652\n",
      "epoch: 1700, loss: 1.5183134078979492\n",
      "epoch: 1800, loss: 1.419406533241272\n",
      "epoch: 1900, loss: 1.3271411657333374\n",
      "epoch: 2000, loss: 1.2420978546142578\n",
      "epoch: 2100, loss: 1.164246916770935\n",
      "epoch: 2200, loss: 1.0935689210891724\n",
      "epoch: 2300, loss: 1.0297259092330933\n",
      "epoch: 2400, loss: 0.9725713729858398\n",
      "epoch: 2500, loss: 0.9217205047607422\n",
      "epoch: 2600, loss: 0.8758689165115356\n",
      "epoch: 2700, loss: 0.8353242874145508\n",
      "epoch: 2800, loss: 0.7998091578483582\n",
      "epoch: 2900, loss: 0.7692634463310242\n",
      "epoch: 3000, loss: 0.7430534362792969\n",
      "epoch: 3100, loss: 0.7199469208717346\n",
      "epoch: 3200, loss: 0.6995013952255249\n",
      "epoch: 3300, loss: 0.6811686754226685\n",
      "epoch: 3400, loss: 0.6645199060440063\n",
      "epoch: 3500, loss: 0.6488845944404602\n",
      "epoch: 3600, loss: 0.6337926983833313\n",
      "epoch: 3700, loss: 0.6189546585083008\n",
      "epoch: 3800, loss: 0.6040521264076233\n",
      "epoch: 3900, loss: 0.5890188813209534\n",
      "epoch: 4000, loss: 0.5736766457557678\n",
      "epoch: 4100, loss: 0.5579127669334412\n",
      "epoch: 4200, loss: 0.5417076945304871\n",
      "epoch: 4300, loss: 0.525015115737915\n",
      "epoch: 4400, loss: 0.5078098773956299\n",
      "epoch: 4500, loss: 0.49008506536483765\n",
      "epoch: 4600, loss: 0.4718419909477234\n",
      "epoch: 4700, loss: 0.4530879855155945\n",
      "epoch: 4800, loss: 0.43383413553237915\n",
      "epoch: 4900, loss: 0.4140937626361847\n",
      "epoch: 5000, loss: 0.39388200640678406\n",
      "epoch: 5100, loss: 0.3732205033302307\n",
      "epoch: 5200, loss: 0.3521259129047394\n",
      "epoch: 5300, loss: 0.3306189477443695\n",
      "epoch: 5400, loss: 0.30871817469596863\n",
      "epoch: 5500, loss: 0.2864453196525574\n",
      "epoch: 5600, loss: 0.26382318139076233\n",
      "epoch: 5700, loss: 0.240876704454422\n",
      "epoch: 5800, loss: 0.2176310271024704\n",
      "epoch: 5900, loss: 0.19410981237888336\n",
      "epoch: 6000, loss: 0.1703357845544815\n",
      "epoch: 6100, loss: 0.14632990956306458\n",
      "epoch: 6200, loss: 0.12211201339960098\n",
      "epoch: 6300, loss: 0.09770277142524719\n",
      "epoch: 6400, loss: 0.07312090694904327\n",
      "epoch: 6500, loss: 0.04838588088750839\n",
      "epoch: 6600, loss: 0.023514028638601303\n",
      "epoch: 6700, loss: 0.0008207926875911653\n",
      "epoch: 6800, loss: 0.00037508015520870686\n",
      "epoch: 6900, loss: 0.00032273423857986927\n",
      "epoch: 7000, loss: 0.00021340181410778314\n",
      "epoch: 7100, loss: 0.0001963323593372479\n",
      "epoch: 7200, loss: 0.00018508192442823201\n",
      "epoch: 7300, loss: 0.00017635914264246821\n",
      "epoch: 7400, loss: 0.00017054217460099608\n",
      "epoch: 7500, loss: 0.00016587083518970758\n",
      "epoch: 7600, loss: 0.00016172633331734687\n",
      "epoch: 7700, loss: 0.0001588650920893997\n",
      "epoch: 7800, loss: 0.00015619612531736493\n",
      "epoch: 7900, loss: 0.00015452543448191136\n",
      "epoch: 8000, loss: 0.0001530973968328908\n",
      "epoch: 8100, loss: 0.00015176144370343536\n",
      "epoch: 8200, loss: 0.00014956893573980778\n",
      "epoch: 8300, loss: 0.0001483764935983345\n",
      "epoch: 8400, loss: 0.00014799638302065432\n",
      "epoch: 8500, loss: 0.00014623295282945037\n",
      "epoch: 8600, loss: 0.00014604278840124607\n",
      "epoch: 8700, loss: 0.00014499406097456813\n",
      "epoch: 8800, loss: 0.00014513617497868836\n",
      "epoch: 8900, loss: 0.00014408478455152363\n",
      "epoch: 9000, loss: 0.000143373355967924\n",
      "epoch: 9100, loss: 0.00014356021711137146\n",
      "epoch: 9200, loss: 0.00014356336032506078\n",
      "epoch: 9300, loss: 0.00014218069554772228\n",
      "epoch: 9400, loss: 0.00014175155956763774\n",
      "epoch: 9500, loss: 0.0001410825934726745\n",
      "epoch: 9600, loss: 0.0001409886172041297\n",
      "epoch: 9700, loss: 0.00014251557877287269\n",
      "epoch: 9800, loss: 0.00014218104479368776\n",
      "epoch: 9900, loss: 0.00014055853534955531\n"
     ]
    }
   ],
   "source": [
    "running_loss = []\n",
    "print_every = 100\n",
    "for i in range(epochs):\n",
    "    optimizer.zero_grad()\n",
    "    yhat = model1(xtrain)\n",
    "    loss = criterion(yhat, ytrue)\n",
    "    loss.backward()\n",
    "    optimizer.step()\n",
    "    \n",
    "    running_loss.append(loss.item())\n",
    "    if i%print_every == 0:\n",
    "        print(f'epoch: {i}, loss: {loss.item()}')"
   ]
  },
  {
   "cell_type": "code",
   "execution_count": 166,
   "id": "4cd068ef",
   "metadata": {},
   "outputs": [
    {
     "data": {
      "text/plain": [
       "[<matplotlib.lines.Line2D at 0x7f47b67344c0>]"
      ]
     },
     "execution_count": 166,
     "metadata": {},
     "output_type": "execute_result"
    },
    {
     "data": {
      "image/png": "[encoded data removed]",
      "text/plain": [
       "<Figure size 432x288 with 1 Axes>"
      ]
     },
     "metadata": {},
     "output_type": "display_data"
    }
   ],
   "source": [
    "plt.style.use('ggplot')\n",
    "plt.plot(np.arange(len(running_loss)), running_loss)"
   ]
  },
  {
   "cell_type": "markdown",
   "id": "cbe69d9b",
   "metadata": {},
   "source": [
    "We can see that it takes only around 6500 iterations to get the loss down to an acceptable value. The rest of the training was basically unnecessary. Let's see how we can mitigate this using a custom callback"
   ]
  },
  {
   "cell_type": "markdown",
   "id": "86b5badd",
   "metadata": {},
   "source": [
    "### with custom callback"
   ]
  },
  {
   "cell_type": "code",
   "execution_count": 167,
   "id": "e28cb5b1",
   "metadata": {},
   "outputs": [
    {
     "data": {
      "text/plain": [
       "Model1(\n",
       "  (fc1): Linear(in_features=1, out_features=1, bias=True)\n",
       ")"
      ]
     },
     "execution_count": 167,
     "metadata": {},
     "output_type": "execute_result"
    }
   ],
   "source": [
    "model1 = Model1() # re-instantiate the model\n",
    "model1"
   ]
  },
  {
   "cell_type": "code",
   "execution_count": 168,
   "id": "04897445",
   "metadata": {},
   "outputs": [],
   "source": [
    "criterion = nn.L1Loss()\n",
    "optimizer = optim.Adam(model1.parameters())"
   ]
  },
  {
   "cell_type": "code",
   "execution_count": 169,
   "id": "c55be931",
   "metadata": {},
   "outputs": [
    {
     "name": "stdout",
     "output_type": "stream",
     "text": [
      "epoch: 0, loss: 3.997359275817871, average loss over the last 5 iterations: 7.28302003153658e-05\n",
      "epoch: 100, loss: 3.8474175930023193, average loss over the last 5 iterations: 3.850416421890259\n",
      "epoch: 200, loss: 3.6974761486053467, average loss over the last 5 iterations: 3.700475072860718\n",
      "epoch: 300, loss: 3.5475351810455322, average loss over the last 5 iterations: 3.5505340099334717\n",
      "epoch: 400, loss: 3.3975930213928223, average loss over the last 5 iterations: 3.4005919456481934\n",
      "epoch: 500, loss: 3.2476515769958496, average loss over the last 5 iterations: 3.2506502628326417\n",
      "epoch: 600, loss: 3.0977110862731934, average loss over the last 5 iterations: 3.100709867477417\n",
      "epoch: 700, loss: 2.947770833969116, average loss over the last 5 iterations: 2.95076961517334\n",
      "epoch: 800, loss: 2.7978310585021973, average loss over the last 5 iterations: 2.8008297443389893\n",
      "epoch: 900, loss: 2.647890567779541, average loss over the last 5 iterations: 2.650889444351196\n",
      "epoch: 1000, loss: 2.497950792312622, average loss over the last 5 iterations: 2.50094952583313\n",
      "epoch: 1100, loss: 2.348010778427124, average loss over the last 5 iterations: 2.351009654998779\n",
      "epoch: 1200, loss: 2.198071002960205, average loss over the last 5 iterations: 2.201069736480713\n",
      "epoch: 1300, loss: 2.0504136085510254, average loss over the last 5 iterations: 2.0532949447631834\n",
      "epoch: 1400, loss: 1.9103807210922241, average loss over the last 5 iterations: 1.91309494972229\n",
      "epoch: 1500, loss: 1.7785189151763916, average loss over the last 5 iterations: 1.7810720205307007\n",
      "epoch: 1600, loss: 1.6549546718597412, average loss over the last 5 iterations: 1.6573544979095458\n",
      "epoch: 1700, loss: 1.5392638444900513, average loss over the last 5 iterations: 1.5415021896362304\n",
      "epoch: 1800, loss: 1.4307445287704468, average loss over the last 5 iterations: 1.4328507661819458\n",
      "epoch: 1900, loss: 1.3295520544052124, average loss over the last 5 iterations: 1.331502103805542\n",
      "epoch: 2000, loss: 1.2356107234954834, average loss over the last 5 iterations: 1.2374159812927246\n",
      "epoch: 2100, loss: 1.1494317054748535, average loss over the last 5 iterations: 1.1510829687118531\n",
      "epoch: 2200, loss: 1.0710275173187256, average loss over the last 5 iterations: 1.072513794898987\n",
      "epoch: 2300, loss: 1.000457763671875, average loss over the last 5 iterations: 1.0017936468124389\n",
      "epoch: 2400, loss: 0.937264084815979, average loss over the last 5 iterations: 0.9384604573249817\n",
      "epoch: 2500, loss: 0.881240725517273, average loss over the last 5 iterations: 0.8822943925857544\n",
      "epoch: 2600, loss: 0.8318160176277161, average loss over the last 5 iterations: 0.8327537178993225\n",
      "epoch: 2700, loss: 0.7877386808395386, average loss over the last 5 iterations: 0.7885665416717529\n",
      "epoch: 2800, loss: 0.7492542862892151, average loss over the last 5 iterations: 0.7499730944633484\n",
      "epoch: 2900, loss: 0.716135561466217, average loss over the last 5 iterations: 0.7167453527450561\n",
      "epoch: 3000, loss: 0.6880399584770203, average loss over the last 5 iterations: 0.6885548591613769\n",
      "epoch: 3100, loss: 0.6639314889907837, average loss over the last 5 iterations: 0.6643836975097657\n",
      "epoch: 3200, loss: 0.6427289843559265, average loss over the last 5 iterations: 0.6431244373321533\n",
      "epoch: 3300, loss: 0.6240420341491699, average loss over the last 5 iterations: 0.6243953108787537\n",
      "epoch: 3400, loss: 0.6072997450828552, average loss over the last 5 iterations: 0.6076206684112548\n",
      "epoch: 3500, loss: 0.5918030142784119, average loss over the last 5 iterations: 0.5921049833297729\n",
      "epoch: 3600, loss: 0.576982319355011, average loss over the last 5 iterations: 0.5772741556167602\n",
      "epoch: 3700, loss: 0.5624900460243225, average loss over the last 5 iterations: 0.562779700756073\n",
      "epoch: 3800, loss: 0.5479853749275208, average loss over the last 5 iterations: 0.5482759594917297\n",
      "epoch: 3900, loss: 0.5333864092826843, average loss over the last 5 iterations: 0.533681058883667\n",
      "epoch: 4000, loss: 0.5184626579284668, average loss over the last 5 iterations: 0.5187650799751282\n",
      "epoch: 4100, loss: 0.5031471252441406, average loss over the last 5 iterations: 0.5034574031829834\n",
      "epoch: 4200, loss: 0.48738569021224976, average loss over the last 5 iterations: 0.4877056241035461\n",
      "epoch: 4300, loss: 0.4711288511753082, average loss over the last 5 iterations: 0.4714590489864349\n",
      "epoch: 4400, loss: 0.45435044169425964, average loss over the last 5 iterations: 0.45469117164611816\n",
      "epoch: 4500, loss: 0.437041699886322, average loss over the last 5 iterations: 0.43739301562309263\n",
      "epoch: 4600, loss: 0.41920438408851624, average loss over the last 5 iterations: 0.4195662379264832\n",
      "epoch: 4700, loss: 0.4008457660675049, average loss over the last 5 iterations: 0.40121792554855346\n",
      "epoch: 4800, loss: 0.3819746971130371, average loss over the last 5 iterations: 0.3823569893836975\n",
      "epoch: 4900, loss: 0.36260417103767395, average loss over the last 5 iterations: 0.36299632787704467\n",
      "epoch: 5000, loss: 0.34274905920028687, average loss over the last 5 iterations: 0.34315077066421507\n",
      "epoch: 5100, loss: 0.3224245011806488, average loss over the last 5 iterations: 0.32283543348312377\n",
      "epoch: 5200, loss: 0.30164775252342224, average loss over the last 5 iterations: 0.30206756591796874\n",
      "epoch: 5300, loss: 0.2804403305053711, average loss over the last 5 iterations: 0.2808685481548309\n",
      "epoch: 5400, loss: 0.25882261991500854, average loss over the last 5 iterations: 0.2592588424682617\n",
      "epoch: 5500, loss: 0.2368154227733612, average loss over the last 5 iterations: 0.23725918233394622\n",
      "epoch: 5600, loss: 0.21443963050842285, average loss over the last 5 iterations: 0.21489058136940004\n",
      "epoch: 5700, loss: 0.1917174756526947, average loss over the last 5 iterations: 0.19217511415481567\n",
      "epoch: 5800, loss: 0.1686728149652481, average loss over the last 5 iterations: 0.16913665533065797\n",
      "epoch: 5900, loss: 0.14533060789108276, average loss over the last 5 iterations: 0.1458001434803009\n",
      "epoch: 6000, loss: 0.12171556055545807, average loss over the last 5 iterations: 0.12219039797782898\n",
      "epoch: 6100, loss: 0.09784997254610062, average loss over the last 5 iterations: 0.0983296051621437\n",
      "epoch: 6200, loss: 0.07375580817461014, average loss over the last 5 iterations: 0.07423980981111526\n",
      "epoch: 6300, loss: 0.04945376515388489, average loss over the last 5 iterations: 0.0499417170882225\n",
      "epoch: 6400, loss: 0.024963274598121643, average loss over the last 5 iterations: 0.025454846024513245\n",
      "epoch: 6500, loss: 0.00030441457056440413, average loss over the last 5 iterations: 0.0007990861602593213\n",
      "epoch: 6600, loss: 0.0005438589141704142, average loss over the last 5 iterations: 0.00044367665104800836\n",
      "epoch: 6700, loss: 0.00010949677380267531\n",
      "Training stopped due to callback. Average loss: 9.797813327168114e-05 < delta: 0.0001\n"
     ]
    }
   ],
   "source": [
    "running_loss = []\n",
    "callback_loss = []\n",
    "print_every = 100\n",
    "avg_over = 5 # the average loss will be calculated for the last x epochs\n",
    "delta = 0.0001 # if the average loss over the past iterations is less than delta, stop training\n",
    "\n",
    "for i in range(epochs):\n",
    "    optimizer.zero_grad()\n",
    "    yhat = model1(xtrain)\n",
    "    loss = criterion(yhat, ytrue)\n",
    "    loss.backward()\n",
    "    optimizer.step()\n",
    "    \n",
    "    running_loss.append(loss.item())\n",
    "    callback_loss.append(loss.item())\n",
    "    \n",
    "    if len(callback_loss) == avg_over:\n",
    "        avg = sum(callback_loss) / avg_over\n",
    "        if avg < delta:\n",
    "            print(f'epoch: {i}, loss: {loss.item()}')\n",
    "            print(f'Training stopped due to callback. Average loss: {avg} < delta: {delta}')\n",
    "            break;\n",
    "        callback_loss.pop(0)\n",
    "    \n",
    "    if i%print_every == 0:\n",
    "        print(f'epoch: {i}, loss: {loss.item()}, average loss over the last {avg_over} iterations: {avg}')\n",
    "#         print(callback_loss)"
   ]
  },
  {
   "cell_type": "code",
   "execution_count": 170,
   "id": "3aa8a9cd",
   "metadata": {},
   "outputs": [
    {
     "data": {
      "text/plain": [
       "[<matplotlib.lines.Line2D at 0x7f47b6e61880>]"
      ]
     },
     "execution_count": 170,
     "metadata": {},
     "output_type": "execute_result"
    },
    {
     "data": {
      "image/png": "[encoded data removed]",
      "text/plain": [
       "<Figure size 432x288 with 1 Axes>"
      ]
     },
     "metadata": {},
     "output_type": "display_data"
    }
   ],
   "source": [
    "plt.style.use('ggplot')\n",
    "plt.plot(np.arange(len(running_loss)), running_loss)"
   ]
  },
  {
   "cell_type": "markdown",
   "id": "a7a0524c",
   "metadata": {},
   "source": [
    "we can see that the callback enabled training to end at epoch 6700, instead of letting it run all the 10000 iterations"
   ]
  },
  {
   "cell_type": "markdown",
   "id": "4d628f42",
   "metadata": {},
   "source": [
    "let's check the learned weights and biases"
   ]
  },
  {
   "cell_type": "code",
   "execution_count": 177,
   "id": "c993cda7",
   "metadata": {},
   "outputs": [
    {
     "name": "stdout",
     "output_type": "stream",
     "text": [
      "fc1 weights: Parameter containing:\n",
      "tensor([[4.9998]], requires_grad=True), \n",
      "fc2 biases: Parameter containing:\n",
      "tensor([1.0001], requires_grad=True)\n"
     ]
    }
   ],
   "source": [
    "print(f'fc1 weights: {model1.fc1.weight}, \\nfc2 biases: {model1.fc1.bias}')"
   ]
  },
  {
   "cell_type": "markdown",
   "id": "5c6c1358",
   "metadata": {},
   "source": [
    "the real weight = 5 and the real bias = 1. we got pretty close"
   ]
  },
  {
   "cell_type": "markdown",
   "id": "4b62c3a1",
   "metadata": {},
   "source": [
    "let's test a few values"
   ]
  },
  {
   "cell_type": "code",
   "execution_count": 178,
   "id": "b9b95df4",
   "metadata": {},
   "outputs": [
    {
     "name": "stdout",
     "output_type": "stream",
     "text": [
      "ytrue: tensor([[51.]]), yhat: tensor([[50.9977]], grad_fn=<AddmmBackward0>)\n",
      "ytrue: tensor([[56.]]), yhat: tensor([[55.9975]], grad_fn=<AddmmBackward0>)\n",
      "ytrue: tensor([[61.]]), yhat: tensor([[60.9972]], grad_fn=<AddmmBackward0>)\n",
      "ytrue: tensor([[66.]]), yhat: tensor([[65.9970]], grad_fn=<AddmmBackward0>)\n",
      "ytrue: tensor([[71.]]), yhat: tensor([[70.9967]], grad_fn=<AddmmBackward0>)\n"
     ]
    }
   ],
   "source": [
    "for i in range(10,15):\n",
    "    x = [i]\n",
    "    x = torch.tensor(x, dtype=torch.float32).unsqueeze(1)\n",
    "    yhat = model1(x)\n",
    "    ytrue = f(x)\n",
    "    print(f'ytrue: {ytrue}, yhat: {yhat}')"
   ]
  },
  {
   "cell_type": "markdown",
   "id": "02c624e6",
   "metadata": {},
   "source": [
    "### Conclusion"
   ]
  },
  {
   "cell_type": "markdown",
   "id": "fcda3024",
   "metadata": {},
   "source": [
    "Successfully implemented a simple custom callback in the training loop, hence decreasing the training time"
   ]
  },
  {
   "cell_type": "code",
   "execution_count": null,
   "id": "ce398ed5",
   "metadata": {},
   "outputs": [],
   "source": []
  }
 ],
 "metadata": {
  "kernelspec": {
   "display_name": "udacitycvenv",
   "language": "python",
   "name": "udacitycvenv"
  },
  "language_info": {
   "codemirror_mode": {
    "name": "ipython",
    "version": 3
   },
   "file_extension": ".py",
   "mimetype": "text/x-python",
   "name": "python",
   "nbconvert_exporter": "python",
   "pygments_lexer": "ipython3",
   "version": "3.9.0"
  }
 },
 "nbformat": 4,
 "nbformat_minor": 5
}
