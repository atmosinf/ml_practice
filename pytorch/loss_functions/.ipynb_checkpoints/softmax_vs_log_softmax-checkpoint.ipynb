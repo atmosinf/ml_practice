{
 "cells": [
  {
   "cell_type": "markdown",
   "id": "2505fbc8",
   "metadata": {},
   "source": [
    "### In this notebook we will explore the differences between softmax and log softmax"
   ]
  },
  {
   "cell_type": "markdown",
   "id": "b0f3843f",
   "metadata": {},
   "source": [
    "since we're using softmax and log softmax, this should be a classification problem with muliple target classes"
   ]
  },
  {
   "cell_type": "code",
   "execution_count": 1,
   "id": "463f75a3",
   "metadata": {},
   "outputs": [],
   "source": [
    "import numpy as np\n",
    "import matplotlib.pyplot as plt\n",
    "import torch\n",
    "import torch.nn as nn\n",
    "import torch.nn.functional as F\n",
    "from torch import optim"
   ]
  },
  {
   "cell_type": "markdown",
   "id": "060322aa",
   "metadata": {},
   "source": [
    "Let's create the data"
   ]
  },
  {
   "cell_type": "code",
   "execution_count": 5,
   "id": "3a2b7e01",
   "metadata": {},
   "outputs": [],
   "source": [
    "xtrain = torch.rand(1000,1)"
   ]
  },
  {
   "cell_type": "code",
   "execution_count": 6,
   "id": "a8c5f6cc",
   "metadata": {},
   "outputs": [
    {
     "data": {
      "text/plain": [
       "torch.Size([1000, 1])"
      ]
     },
     "execution_count": 6,
     "metadata": {},
     "output_type": "execute_result"
    }
   ],
   "source": [
    "xtrain.shape"
   ]
  },
  {
   "cell_type": "markdown",
   "id": "cfc1eb3b",
   "metadata": {},
   "source": [
    "We'll test the loss functions on a linear and a non-linear function"
   ]
  },
  {
   "cell_type": "code",
   "execution_count": 10,
   "id": "937c71c8",
   "metadata": {},
   "outputs": [],
   "source": [
    "def f1(x):\n",
    "    return 3*x + 5"
   ]
  },
  {
   "cell_type": "code",
   "execution_count": 11,
   "id": "7f6847d8",
   "metadata": {},
   "outputs": [],
   "source": [
    "def f2(x):\n",
    "    return x**2 + 2*x + 1"
   ]
  },
  {
   "cell_type": "code",
   "execution_count": 12,
   "id": "3f127183",
   "metadata": {},
   "outputs": [],
   "source": [
    "ytrain1 = f1(xtrain)"
   ]
  },
  {
   "cell_type": "code",
   "execution_count": 15,
   "id": "9cb0ae6f",
   "metadata": {},
   "outputs": [
    {
     "data": {
      "text/plain": [
       "torch.Size([1000, 1])"
      ]
     },
     "execution_count": 15,
     "metadata": {},
     "output_type": "execute_result"
    }
   ],
   "source": [
    "ytrain1.shape"
   ]
  },
  {
   "cell_type": "code",
   "execution_count": 16,
   "id": "144e5085",
   "metadata": {},
   "outputs": [],
   "source": [
    "ytrain2 = f2(xtrain)"
   ]
  },
  {
   "cell_type": "code",
   "execution_count": 17,
   "id": "9ed9bb10",
   "metadata": {},
   "outputs": [
    {
     "data": {
      "text/plain": [
       "torch.Size([1000, 1])"
      ]
     },
     "execution_count": 17,
     "metadata": {},
     "output_type": "execute_result"
    }
   ],
   "source": [
    "ytrain2.shape"
   ]
  },
  {
   "cell_type": "markdown",
   "id": "f5ae5123",
   "metadata": {},
   "source": [
    "Let's create the model"
   ]
  },
  {
   "cell_type": "code",
   "execution_count": 18,
   "id": "f2429c4f",
   "metadata": {},
   "outputs": [],
   "source": [
    "class Model1(nn.Module):\n",
    "    def __init__(self):\n",
    "        super().__init__()\n",
    "        self.fc1 = nn.Linear(1, 3)\n",
    "        self.fc2 = nn.Linear(3, 1)\n",
    "        \n",
    "    def forwarf(self, x):\n",
    "        x = F.relu(self.fc1(x))\n",
    "        x = self.fc2(x)\n",
    "        \n",
    "        return x"
   ]
  },
  {
   "cell_type": "code",
   "execution_count": 19,
   "id": "1293448d",
   "metadata": {},
   "outputs": [],
   "source": [
    "# parameters\n",
    "epochs = 1000"
   ]
  },
  {
   "cell_type": "code",
   "execution_count": null,
   "id": "b587ee3f",
   "metadata": {},
   "outputs": [],
   "source": [
    "criterion = nn.MSELoss"
   ]
  }
 ],
 "metadata": {
  "kernelspec": {
   "display_name": "udacitycvenv",
   "language": "python",
   "name": "udacitycvenv"
  },
  "language_info": {
   "codemirror_mode": {
    "name": "ipython",
    "version": 3
   },
   "file_extension": ".py",
   "mimetype": "text/x-python",
   "name": "python",
   "nbconvert_exporter": "python",
   "pygments_lexer": "ipython3",
   "version": "3.9.0"
  }
 },
 "nbformat": 4,
 "nbformat_minor": 5
}
