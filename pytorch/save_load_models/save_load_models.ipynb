{
 "cells": [
  {
   "cell_type": "markdown",
   "id": "be774396",
   "metadata": {},
   "source": [
    "### in this notebook we'll learn how to save and load models"
   ]
  },
  {
   "cell_type": "code",
   "execution_count": 2,
   "id": "16fbcccf",
   "metadata": {},
   "outputs": [],
   "source": [
    "import numpy as np\n",
    "import matplotlib.pyplot as plt\n",
    "import torch\n",
    "import torch.nn as nn\n",
    "import torch.nn.functional as F\n",
    "from torch import optim"
   ]
  },
  {
   "cell_type": "markdown",
   "id": "ce88c97a",
   "metadata": {},
   "source": [
    "Let's create a model that approximates a function that takes in 2 features"
   ]
  },
  {
   "cell_type": "code",
   "execution_count": 22,
   "id": "a36dcd6e",
   "metadata": {},
   "outputs": [],
   "source": [
    "def func(x):\n",
    "    return x[:,0]**2 + 3*x[:,1] + 2"
   ]
  },
  {
   "cell_type": "code",
   "execution_count": 30,
   "id": "69623f0a",
   "metadata": {},
   "outputs": [],
   "source": [
    "xtrain = torch.rand((1000,2))"
   ]
  },
  {
   "cell_type": "code",
   "execution_count": 31,
   "id": "2f142eb2",
   "metadata": {},
   "outputs": [],
   "source": [
    "ytrue = func(xtrain)"
   ]
  },
  {
   "cell_type": "code",
   "execution_count": 33,
   "id": "bca4655e",
   "metadata": {},
   "outputs": [
    {
     "data": {
      "text/plain": [
       "[(tensor([0.6447, 0.3142]), tensor(3.3583)),\n",
       " (tensor([0.7412, 0.4043]), tensor(3.7623)),\n",
       " (tensor([0.9831, 0.8460]), tensor(5.5045)),\n",
       " (tensor([0.4240, 0.2899]), tensor(3.0493)),\n",
       " (tensor([0.2185, 0.7048]), tensor(4.1621))]"
      ]
     },
     "execution_count": 33,
     "metadata": {},
     "output_type": "execute_result"
    }
   ],
   "source": [
    "[(a,b) for i,(a,b) in enumerate(zip(xtrain, ytrue)) if i < 5]"
   ]
  },
  {
   "cell_type": "code",
   "execution_count": 34,
   "id": "6577019e",
   "metadata": {},
   "outputs": [
    {
     "data": {
      "text/plain": [
       "3.35823809"
      ]
     },
     "execution_count": 34,
     "metadata": {},
     "output_type": "execute_result"
    }
   ],
   "source": [
    "0.6447**2 + 0.3142*3 + 2"
   ]
  },
  {
   "cell_type": "code",
   "execution_count": 36,
   "id": "45f511a9",
   "metadata": {},
   "outputs": [
    {
     "data": {
      "text/plain": [
       "3.76227744"
      ]
     },
     "execution_count": 36,
     "metadata": {},
     "output_type": "execute_result"
    }
   ],
   "source": [
    "0.7412**2 + 0.4043*3 + 2"
   ]
  },
  {
   "cell_type": "markdown",
   "id": "21fcb013",
   "metadata": {},
   "source": [
    "### create a model"
   ]
  },
  {
   "cell_type": "code",
   "execution_count": 37,
   "id": "a7dad300",
   "metadata": {},
   "outputs": [],
   "source": [
    "class Model1(nn.Module):\n",
    "    def __init__(self):\n",
    "        super().__init__()\n",
    "        self.fc1 = nn.Linear(2, 3)\n",
    "        self.fc2 = nn.Linear(3,1)\n",
    "        \n",
    "    def forward(self, x):\n",
    "        x = F.relu(self.fc1(x))\n",
    "        x = self.fc2(x)\n",
    "        \n",
    "        return x"
   ]
  },
  {
   "cell_type": "code",
   "execution_count": 46,
   "id": "2ffee4b7",
   "metadata": {},
   "outputs": [],
   "source": [
    "model1 = Model1()"
   ]
  },
  {
   "cell_type": "code",
   "execution_count": 47,
   "id": "290d18a9",
   "metadata": {},
   "outputs": [
    {
     "data": {
      "text/plain": [
       "Model1(\n",
       "  (fc1): Linear(in_features=2, out_features=3, bias=True)\n",
       "  (fc2): Linear(in_features=3, out_features=1, bias=True)\n",
       ")"
      ]
     },
     "execution_count": 47,
     "metadata": {},
     "output_type": "execute_result"
    }
   ],
   "source": [
    "model1"
   ]
  },
  {
   "cell_type": "code",
   "execution_count": 48,
   "id": "cc180073",
   "metadata": {},
   "outputs": [],
   "source": [
    "criterion = nn.MSELoss()\n",
    "optimizer = torch.optim.Adam(model1.parameters())"
   ]
  },
  {
   "cell_type": "code",
   "execution_count": 49,
   "id": "00451ab3",
   "metadata": {},
   "outputs": [],
   "source": [
    "# parameters\n",
    "epochs = 5000"
   ]
  },
  {
   "cell_type": "code",
   "execution_count": 50,
   "id": "efdca25c",
   "metadata": {},
   "outputs": [
    {
     "name": "stderr",
     "output_type": "stream",
     "text": [
      "/home/amoel/anaconda3/envs/udacitycvenv/lib/python3.9/site-packages/torch/nn/modules/loss.py:520: UserWarning: Using a target size (torch.Size([1000])) that is different to the input size (torch.Size([1000, 1])). This will likely lead to incorrect results due to broadcasting. Please ensure they have the same size.\n",
      "  return F.mse_loss(input, target, reduction=self.reduction)\n"
     ]
    },
    {
     "name": "stdout",
     "output_type": "stream",
     "text": [
      "epoch: 0, loss: 18.382211685180664\n",
      "epoch: 100, loss: 16.073427200317383\n",
      "epoch: 200, loss: 13.75579833984375\n",
      "epoch: 300, loss: 11.188750267028809\n",
      "epoch: 400, loss: 8.191906929016113\n",
      "epoch: 500, loss: 5.133975028991699\n",
      "epoch: 600, loss: 2.881410598754883\n",
      "epoch: 700, loss: 1.7016780376434326\n",
      "epoch: 800, loss: 1.2652220726013184\n",
      "epoch: 900, loss: 1.146685242652893\n",
      "epoch: 1000, loss: 1.115838885307312\n",
      "epoch: 1100, loss: 1.1013652086257935\n",
      "epoch: 1200, loss: 1.0889087915420532\n",
      "epoch: 1300, loss: 1.0764310359954834\n",
      "epoch: 1400, loss: 1.0637569427490234\n",
      "epoch: 1500, loss: 1.0509257316589355\n",
      "epoch: 1600, loss: 1.037994146347046\n",
      "epoch: 1700, loss: 1.0250190496444702\n",
      "epoch: 1800, loss: 1.0120567083358765\n",
      "epoch: 1900, loss: 0.9991629123687744\n",
      "epoch: 2000, loss: 0.9863928556442261\n",
      "epoch: 2100, loss: 0.9738016724586487\n",
      "epoch: 2200, loss: 0.961444616317749\n",
      "epoch: 2300, loss: 0.94937664270401\n",
      "epoch: 2400, loss: 0.937653124332428\n",
      "epoch: 2500, loss: 0.9263288974761963\n",
      "epoch: 2600, loss: 0.9154581427574158\n",
      "epoch: 2700, loss: 0.9050938487052917\n",
      "epoch: 2800, loss: 0.8952867388725281\n",
      "epoch: 2900, loss: 0.88608318567276\n",
      "epoch: 3000, loss: 0.8775256276130676\n",
      "epoch: 3100, loss: 0.869649350643158\n",
      "epoch: 3200, loss: 0.8624812364578247\n",
      "epoch: 3300, loss: 0.856037974357605\n",
      "epoch: 3400, loss: 0.8503246903419495\n",
      "epoch: 3500, loss: 0.8453335165977478\n",
      "epoch: 3600, loss: 0.8410429954528809\n",
      "epoch: 3700, loss: 0.8374189734458923\n",
      "epoch: 3800, loss: 0.834415078163147\n",
      "epoch: 3900, loss: 0.8319747447967529\n",
      "epoch: 4000, loss: 0.8300343751907349\n",
      "epoch: 4100, loss: 0.8285261392593384\n",
      "epoch: 4200, loss: 0.8273812532424927\n",
      "epoch: 4300, loss: 0.8265336155891418\n",
      "epoch: 4400, loss: 0.8259221911430359\n",
      "epoch: 4500, loss: 0.8254928588867188\n",
      "epoch: 4600, loss: 0.8251997232437134\n",
      "epoch: 4700, loss: 0.8250052332878113\n",
      "epoch: 4800, loss: 0.8248800039291382\n",
      "epoch: 4900, loss: 0.8248017430305481\n"
     ]
    }
   ],
   "source": [
    "running_loss = []\n",
    "print_every = 100\n",
    "\n",
    "for i in range(epochs):\n",
    "    optimizer.zero_grad()\n",
    "    output = model1(xtrain)\n",
    "    loss = criterion(output, ytrue)\n",
    "    loss.backward()\n",
    "    optimizer.step()\n",
    "    \n",
    "    running_loss.append(loss.item())\n",
    "    \n",
    "    if i%print_every == 0:\n",
    "        print(f'epoch: {i}, loss: {loss.item()}')\n",
    "        "
   ]
  },
  {
   "cell_type": "code",
   "execution_count": 51,
   "id": "189c662c",
   "metadata": {},
   "outputs": [
    {
     "data": {
      "text/plain": [
       "[<matplotlib.lines.Line2D at 0x7f959dba4ac0>]"
      ]
     },
     "execution_count": 51,
     "metadata": {},
     "output_type": "execute_result"
    },
    {
     "data": {
      "image/png": "[encoded data removed]",
      "text/plain": [
       "<Figure size 432x288 with 1 Axes>"
      ]
     },
     "metadata": {},
     "output_type": "display_data"
    }
   ],
   "source": [
    "plt.style.use('ggplot')\n",
    "plt.plot(np.arange(len(running_loss)), running_loss)"
   ]
  },
  {
   "cell_type": "markdown",
   "id": "7f68ad1b",
   "metadata": {},
   "source": [
    "### Save the model state dict"
   ]
  },
  {
   "cell_type": "markdown",
   "id": "c1b34bf2",
   "metadata": {},
   "source": [
    "the state dict of the model contains the learned weights and biases"
   ]
  },
  {
   "cell_type": "code",
   "execution_count": 52,
   "id": "9fadf9a9",
   "metadata": {},
   "outputs": [
    {
     "data": {
      "text/plain": [
       "OrderedDict([('fc1.weight',\n",
       "              tensor([[-0.5368,  0.1590],\n",
       "                      [ 0.1895, -0.0571],\n",
       "                      [-0.2382,  0.0969]])),\n",
       "             ('fc1.bias', tensor([-0.1451,  1.7434,  1.4117])),\n",
       "             ('fc2.weight', tensor([[-0.2537,  1.2790,  0.9249]])),\n",
       "             ('fc2.bias', tensor([0.2322]))])"
      ]
     },
     "execution_count": 52,
     "metadata": {},
     "output_type": "execute_result"
    }
   ],
   "source": [
    "model1.state_dict()"
   ]
  },
  {
   "cell_type": "code",
   "execution_count": 53,
   "id": "91894ec3",
   "metadata": {},
   "outputs": [],
   "source": [
    "torch.save(model1.state_dict(), 'model1_weights.pth')"
   ]
  },
  {
   "cell_type": "markdown",
   "id": "5271cb95",
   "metadata": {},
   "source": [
    "### Load the saved state dict into a new model"
   ]
  },
  {
   "cell_type": "code",
   "execution_count": 54,
   "id": "46c4c077",
   "metadata": {},
   "outputs": [],
   "source": [
    "newmodel = Model1()"
   ]
  },
  {
   "cell_type": "code",
   "execution_count": 55,
   "id": "cccd1c3d",
   "metadata": {},
   "outputs": [
    {
     "data": {
      "text/plain": [
       "OrderedDict([('fc1.weight',\n",
       "              tensor([[-0.5208,  0.6555],\n",
       "                      [ 0.1752,  0.3944],\n",
       "                      [-0.4931,  0.3546]])),\n",
       "             ('fc1.bias', tensor([ 0.0684,  0.2838, -0.2773])),\n",
       "             ('fc2.weight', tensor([[ 0.4079, -0.5684, -0.0898]])),\n",
       "             ('fc2.bias', tensor([-0.0696]))])"
      ]
     },
     "execution_count": 55,
     "metadata": {},
     "output_type": "execute_result"
    }
   ],
   "source": [
    "newmodel.state_dict()"
   ]
  },
  {
   "cell_type": "markdown",
   "id": "6077dd48",
   "metadata": {},
   "source": [
    "**Note that the weights and biases are random**"
   ]
  },
  {
   "cell_type": "markdown",
   "id": "80587b6c",
   "metadata": {},
   "source": [
    "Now let's load the saved state dict"
   ]
  },
  {
   "cell_type": "code",
   "execution_count": 56,
   "id": "bb9fef8f",
   "metadata": {},
   "outputs": [
    {
     "data": {
      "text/plain": [
       "<All keys matched successfully>"
      ]
     },
     "execution_count": 56,
     "metadata": {},
     "output_type": "execute_result"
    }
   ],
   "source": [
    "newmodel.load_state_dict(torch.load('model1_weights.pth'))"
   ]
  },
  {
   "cell_type": "markdown",
   "id": "9569c71f",
   "metadata": {},
   "source": [
    "Now check the state dict of newmodel again"
   ]
  },
  {
   "cell_type": "code",
   "execution_count": 57,
   "id": "b7851401",
   "metadata": {},
   "outputs": [
    {
     "data": {
      "text/plain": [
       "OrderedDict([('fc1.weight',\n",
       "              tensor([[-0.5368,  0.1590],\n",
       "                      [ 0.1895, -0.0571],\n",
       "                      [-0.2382,  0.0969]])),\n",
       "             ('fc1.bias', tensor([-0.1451,  1.7434,  1.4117])),\n",
       "             ('fc2.weight', tensor([[-0.2537,  1.2790,  0.9249]])),\n",
       "             ('fc2.bias', tensor([0.2322]))])"
      ]
     },
     "execution_count": 57,
     "metadata": {},
     "output_type": "execute_result"
    }
   ],
   "source": [
    "newmodel.state_dict()"
   ]
  },
  {
   "cell_type": "markdown",
   "id": "b044f036",
   "metadata": {},
   "source": [
    "We can see that the model was loaded successfully!"
   ]
  },
  {
   "cell_type": "markdown",
   "id": "22711039",
   "metadata": {},
   "source": [
    "### Save and load the model with shape"
   ]
  },
  {
   "cell_type": "markdown",
   "id": "43b853a9",
   "metadata": {},
   "source": [
    "When loading model weights, we needed to instantiate the model class first, because the class defines the structure of a network. We might want to save the structure of this class together with the model, in which case we can pass model (and not model.state_dict()) to the saving function:"
   ]
  },
  {
   "cell_type": "code",
   "execution_count": 59,
   "id": "8f8a76e4",
   "metadata": {},
   "outputs": [],
   "source": [
    "torch.save(model1, 'savedwithshape.pth')"
   ]
  },
  {
   "cell_type": "code",
   "execution_count": 60,
   "id": "35dda9f9",
   "metadata": {},
   "outputs": [],
   "source": [
    "savedmodel = torch.load('savedwithshape.pth')"
   ]
  },
  {
   "cell_type": "code",
   "execution_count": 61,
   "id": "9da869b0",
   "metadata": {},
   "outputs": [
    {
     "data": {
      "text/plain": [
       "Model1(\n",
       "  (fc1): Linear(in_features=2, out_features=3, bias=True)\n",
       "  (fc2): Linear(in_features=3, out_features=1, bias=True)\n",
       ")"
      ]
     },
     "execution_count": 61,
     "metadata": {},
     "output_type": "execute_result"
    }
   ],
   "source": [
    "savedmodel"
   ]
  },
  {
   "cell_type": "code",
   "execution_count": 62,
   "id": "ab7d3a9e",
   "metadata": {},
   "outputs": [
    {
     "data": {
      "text/plain": [
       "OrderedDict([('fc1.weight',\n",
       "              tensor([[-0.5368,  0.1590],\n",
       "                      [ 0.1895, -0.0571],\n",
       "                      [-0.2382,  0.0969]])),\n",
       "             ('fc1.bias', tensor([-0.1451,  1.7434,  1.4117])),\n",
       "             ('fc2.weight', tensor([[-0.2537,  1.2790,  0.9249]])),\n",
       "             ('fc2.bias', tensor([0.2322]))])"
      ]
     },
     "execution_count": 62,
     "metadata": {},
     "output_type": "execute_result"
    }
   ],
   "source": [
    "savedmodel.state_dict()"
   ]
  },
  {
   "cell_type": "markdown",
   "id": "86199d59",
   "metadata": {},
   "source": [
    "### Conclusion"
   ]
  },
  {
   "cell_type": "markdown",
   "id": "e7b190f0",
   "metadata": {},
   "source": [
    "We learned how to save and load just the state dict of the model, as well as save and load the full pytorch model"
   ]
  },
  {
   "cell_type": "code",
   "execution_count": null,
   "id": "626981e6",
   "metadata": {},
   "outputs": [],
   "source": []
  }
 ],
 "metadata": {
  "kernelspec": {
   "display_name": "udacitycvenv",
   "language": "python",
   "name": "udacitycvenv"
  },
  "language_info": {
   "codemirror_mode": {
    "name": "ipython",
    "version": 3
   },
   "file_extension": ".py",
   "mimetype": "text/x-python",
   "name": "python",
   "nbconvert_exporter": "python",
   "pygments_lexer": "ipython3",
   "version": "3.9.0"
  }
 },
 "nbformat": 4,
 "nbformat_minor": 5
}
